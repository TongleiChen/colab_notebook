{
  "nbformat": 4,
  "nbformat_minor": 0,
  "metadata": {
    "colab": {
      "provenance": [],
      "authorship_tag": "ABX9TyNMvbXXa+RL7L5389W+ZEa6",
      "include_colab_link": true
    },
    "kernelspec": {
      "name": "python3",
      "display_name": "Python 3"
    },
    "language_info": {
      "name": "python"
    }
  },
  "cells": [
    {
      "cell_type": "markdown",
      "metadata": {
        "id": "view-in-github",
        "colab_type": "text"
      },
      "source": [
        "<a href=\"https://colab.research.google.com/github/TongleiChen/sketch_to_image/blob/main/data_analysis.ipynb\" target=\"_parent\"><img src=\"https://colab.research.google.com/assets/colab-badge.svg\" alt=\"Open In Colab\"/></a>"
      ]
    },
    {
      "cell_type": "code",
      "execution_count": 1,
      "metadata": {
        "colab": {
          "base_uri": "https://localhost:8080/"
        },
        "id": "j_m3fWhXIKXc",
        "outputId": "c5bbe79a-2348-4afa-d361-30fb13d8a6f8"
      },
      "outputs": [
        {
          "output_type": "stream",
          "name": "stdout",
          "text": [
            "Mounted at /content/drive\n"
          ]
        }
      ],
      "source": [
        "#@title Mount to Google Drive\n",
        "from google.colab import drive\n",
        "drive.mount('/content/drive')"
      ]
    },
    {
      "cell_type": "code",
      "source": [
        "! ls /content/drive/MyDrive/kaggle/imagenet/bear | wc -l\n",
        "! ls /content/drive/MyDrive/kaggle/imagenet/camel | wc -l\n",
        "! ls /content/drive/MyDrive/kaggle/imagenet/cat | wc -l\n",
        "! ls /content/drive/MyDrive/kaggle/imagenet/dog | wc -l\n",
        "! ls /content/drive/MyDrive/kaggle/imagenet/elephant | wc -l\n",
        "! ls /content/drive/MyDrive/kaggle/imagenet/frog | wc -l\n",
        "! ls /content/drive/MyDrive/kaggle/imagenet/lion | wc -l\n",
        "! ls /content/drive/MyDrive/kaggle/imagenet/panda | wc -l\n",
        "! ls /content/drive/MyDrive/kaggle/imagenet/rabbit | wc -l\n",
        "! ls /content/drive/MyDrive/kaggle/imagenet/squirrel | wc -l"
      ],
      "metadata": {
        "colab": {
          "base_uri": "https://localhost:8080/"
        },
        "id": "_tJCRbdtIRHa",
        "outputId": "a4c919f8-43d2-4842-9438-c0c8474b953e"
      },
      "execution_count": 7,
      "outputs": [
        {
          "output_type": "stream",
          "name": "stdout",
          "text": [
            "1354\n",
            "1247\n",
            "1525\n",
            "1263\n",
            "1650\n",
            "1192\n",
            "1795\n",
            "1832\n",
            "1280\n",
            "1141\n"
          ]
        }
      ]
    },
    {
      "cell_type": "code",
      "source": [
        "import pandas as pd\n",
        "categories = [\"bear\",\"camel\",\"cat\",\"dog\",\"elephant\",\"frog\",\"lion\",\"panda\",\"rabbit\",\"squirrel\"]\n",
        "# categories = ['plane', 'car', 'bird', 'cat','deer', 'dog', 'frog', 'horse', 'ship', 'truck']\n",
        "label_dict = {0:'bear',1:'camel', 2:'cat', 3:'dog', 4:'elephant',\n",
        "                      5:'frog',6:'lion', 7:'panda', 8:'rabbit', 9:'squirrel'}\n",
        "\n",
        "# load data for each category\n",
        "classes = {}\n",
        "for category in categories:\n",
        "    data = pd.read_csv(\"./drive/MyDrive/kaggle/sketch/\" + category + \".csv\")\n",
        "    classes[category] = data\n",
        "for k in classes:\n",
        "  print(len(classes[k]['drawing']))"
      ],
      "metadata": {
        "colab": {
          "base_uri": "https://localhost:8080/"
        },
        "id": "gVjyDeCIJE56",
        "outputId": "938a5b6f-5c4e-4da3-ce54-1877df9559c3"
      },
      "execution_count": 8,
      "outputs": [
        {
          "output_type": "stream",
          "name": "stdout",
          "text": [
            "134762\n",
            "121399\n",
            "123202\n",
            "152159\n",
            "126969\n",
            "159047\n",
            "120949\n",
            "113613\n",
            "155288\n",
            "156883\n"
          ]
        }
      ]
    }
  ]
}