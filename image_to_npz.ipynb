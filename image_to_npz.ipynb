{
  "nbformat": 4,
  "nbformat_minor": 0,
  "metadata": {
    "colab": {
      "provenance": [],
      "authorship_tag": "ABX9TyN6chYewbETz/QX4I/i1IGr",
      "include_colab_link": true
    },
    "kernelspec": {
      "name": "python3",
      "display_name": "Python 3"
    },
    "language_info": {
      "name": "python"
    }
  },
  "cells": [
    {
      "cell_type": "markdown",
      "metadata": {
        "id": "view-in-github",
        "colab_type": "text"
      },
      "source": [
        "<a href=\"https://colab.research.google.com/github/TongleiChen/sketch_to_image/blob/main/image_to_npz.ipynb\" target=\"_parent\"><img src=\"https://colab.research.google.com/assets/colab-badge.svg\" alt=\"Open In Colab\"/></a>"
      ]
    },
    {
      "cell_type": "code",
      "execution_count": null,
      "metadata": {
        "id": "hezjw0qXoYWh"
      },
      "outputs": [],
      "source": [
        "# @title Generate training data .npz file\n",
        "from PIL import Image\n",
        "import os\n",
        "import numpy as np\n",
        "import warnings\n",
        "warnings.filterwarnings(\"ignore\")\n",
        "category = [\"bear\",\"camel\",\"cat\",\"dog\",\"elephant\",\"frog\",\"lion\",\"panda\",\"rabbit\",\"squirrel\"]\n",
        "\n",
        "path_ = \"/content/drive/MyDrive/kaggle/imagenet/\"\n",
        "total_dict = {}\n",
        "for c in category:\n",
        "  path_to_files = path_ + c\n",
        "  array_of_images = []\n",
        "  num = 500\n",
        "  for _, file in enumerate(os.listdir(path_to_files)):\n",
        "      \n",
        "      try:\n",
        "          single_im = Image.open(path_to_files+\"/\"+file)\n",
        "          single_array = np.array(single_im)\n",
        "          if single_array.shape[2] != 3:\n",
        "            continue\n",
        "          num -= 1\n",
        "          if num < 0:\n",
        "            break\n",
        "          array_of_images.append(single_array)\n",
        "          # print(single_array)\n",
        "      except:\n",
        "        continue\n",
        "  total_dict[c] = array_of_images\n",
        "\n",
        "\n",
        "print(len(total_dict))\n",
        "np.savez(\"/content/drive/MyDrive/kaggle/imagenet/all_images.npz\",bear = total_dict['bear'],camel = total_dict['camel'],\n",
        "         cat = total_dict['cat'],dog = total_dict['dog'],elephant = total_dict['elephant'],\n",
        "         frog = total_dict['frog'],lion = total_dict['lion'],panda = total_dict['panda'],\n",
        "         rabbit = total_dict['rabbit'],squirrel = total_dict['squirrel']\n",
        "         )"
      ]
    },
    {
      "cell_type": "code",
      "source": [
        "# @title Generate testing data .npz file\n",
        "from PIL import Image\n",
        "import os\n",
        "import numpy as np\n",
        "import warnings\n",
        "warnings.filterwarnings(\"ignore\")\n",
        "category = [\"bear\",\"camel\",\"cat\",\"dog\",\"elephant\",\"frog\",\"lion\",\"panda\",\"rabbit\",\"squirrel\"]\n",
        "\n",
        "path_ = \"/content/drive/MyDrive/kaggle/imagenet/\"\n",
        "total_dict = {}\n",
        "for c in category:\n",
        "  path_to_files = path_ + c\n",
        "  array_of_images = []\n",
        "  index = 0\n",
        "  num = 100\n",
        "  for _, file in enumerate(os.listdir(path_to_files)):\n",
        "      if index < 600:\n",
        "            index += 1\n",
        "            continue\n",
        "      try:\n",
        "          single_im = Image.open(path_to_files+\"/\"+file)\n",
        "          single_array = np.array(single_im)\n",
        "          if single_array.shape[2] != 3:\n",
        "            continue\n",
        "          num -= 1\n",
        "          if num < 0:\n",
        "            break\n",
        "          array_of_images.append(single_array)\n",
        "      except:\n",
        "        continue\n",
        "  total_dict[c] = array_of_images\n",
        "\n",
        "\n",
        "# print(array_of_images)\n",
        "np.savez(\"/content/drive/MyDrive/kaggle/imagenet/test_images.npz\",bear = total_dict['bear'],camel = total_dict['camel'],\n",
        "         cat = total_dict['cat'],dog = total_dict['dog'],elephant = total_dict['elephant'],\n",
        "         frog = total_dict['frog'],lion = total_dict['lion'],panda = total_dict['panda'],\n",
        "         rabbit = total_dict['rabbit'],squirrel = total_dict['squirrel']\n",
        "         )"
      ],
      "metadata": {
        "id": "BiZLqQ1nogZ7"
      },
      "execution_count": null,
      "outputs": []
    }
  ]
}