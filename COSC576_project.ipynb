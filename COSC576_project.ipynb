{
  "nbformat": 4,
  "nbformat_minor": 0,
  "metadata": {
    "colab": {
      "provenance": [],
      "include_colab_link": true
    },
    "kernelspec": {
      "name": "python3",
      "display_name": "Python 3"
    },
    "language_info": {
      "name": "python"
    },
    "gpuClass": "standard",
    "accelerator": "GPU"
  },
  "cells": [
    {
      "cell_type": "markdown",
      "metadata": {
        "id": "view-in-github",
        "colab_type": "text"
      },
      "source": [
        "<a href=\"https://colab.research.google.com/github/TongleiChen/sketch_to_image/blob/main/COSC576_project.ipynb\" target=\"_parent\"><img src=\"https://colab.research.google.com/assets/colab-badge.svg\" alt=\"Open In Colab\"/></a>"
      ]
    },
    {
      "cell_type": "code",
      "execution_count": 32,
      "metadata": {
        "id": "Bg1_cWRyP4bu"
      },
      "outputs": [],
      "source": [
        "# Import helper libraries\n",
        "import numpy as np # linear algebra\n",
        "import pandas as pd # data processing, CSV file I/O (e.g. pd.read_csv)\n",
        "import requests\n",
        "from io import BytesIO # Use When expecting bytes-like objects\n",
        "import pickle\n",
        "from collections import OrderedDict\n",
        "import os\n",
        "from os import path\n",
        "import ast\n",
        "import random\n",
        "# import matplotlib for visualization\n",
        "from matplotlib.pyplot import imshow\n",
        "import matplotlib.pyplot as plt\n",
        "\n",
        "# import PIL for image manipulation\n",
        "from PIL import Image, ImageDraw, ImageOps\n",
        "\n",
        "# import machine learning libraries\n",
        "from sklearn.model_selection import train_test_split\n",
        "from sklearn.metrics import accuracy_score\n",
        "\n",
        "# import pytorch\n",
        "import torch\n",
        "from torch import nn\n",
        "from torch import optim\n",
        "import torch.nn.functional as F\n",
        "from torchvision import datasets, transforms"
      ]
    },
    {
      "cell_type": "code",
      "source": [
        "from google.colab import drive\n",
        "drive.mount('/content/drive')"
      ],
      "metadata": {
        "colab": {
          "base_uri": "https://localhost:8080/"
        },
        "id": "DujTY9kfRNJB",
        "outputId": "06d5b2db-efed-41bf-fc53-e64e4ed08e63"
      },
      "execution_count": 1,
      "outputs": [
        {
          "output_type": "stream",
          "name": "stdout",
          "text": [
            "Mounted at /content/drive\n"
          ]
        }
      ]
    },
    {
      "cell_type": "code",
      "source": [
        "with open('/content/drive/My Drive/foo.txt', 'w') as f:\n",
        "  f.write('Hello Google Drive!')\n",
        "!cat /content/drive/My\\ Drive/foo.txt"
      ],
      "metadata": {
        "colab": {
          "base_uri": "https://localhost:8080/"
        },
        "id": "4StbRmOqRfVl",
        "outputId": "a5838340-ee84-4d03-b672-910253ad20cb"
      },
      "execution_count": null,
      "outputs": [
        {
          "output_type": "stream",
          "name": "stdout",
          "text": [
            "Hello Google Drive!"
          ]
        }
      ]
    },
    {
      "cell_type": "code",
      "source": [
        "drive.flush_and_unmount()\n",
        "print('All changes made in this colab session should now be visible in Drive.')"
      ],
      "metadata": {
        "colab": {
          "base_uri": "https://localhost:8080/"
        },
        "id": "nkzEX-9eRjH3",
        "outputId": "944f290b-bb03-4131-fe28-58c9e5cf3036"
      },
      "execution_count": null,
      "outputs": [
        {
          "output_type": "stream",
          "name": "stdout",
          "text": [
            "All changes made in this colab session should now be visible in Drive.\n"
          ]
        }
      ]
    },
    {
      "cell_type": "code",
      "source": [
        "! mkdir -p ~/.kaggle\n",
        "! cp ./drive/MyDrive/kaggle/kaggle.json ~/.kaggle/\n",
        "! chmod 600 ~/.kaggle/kaggle.json"
      ],
      "metadata": {
        "id": "fKX7JB-cT-Hr",
        "colab": {
          "base_uri": "https://localhost:8080/"
        },
        "outputId": "d5f76e8e-4659-4dac-fff3-da6191ea7f02"
      },
      "execution_count": null,
      "outputs": [
        {
          "output_type": "stream",
          "name": "stdout",
          "text": [
            "cp: cannot stat './drive/MyDrive/kaggle/kaggle.json': No such file or directory\n",
            "chmod: cannot access '/root/.kaggle/kaggle.json': No such file or directory\n"
          ]
        }
      ]
    },
    {
      "cell_type": "code",
      "source": [
        "! pip install -U kaggle"
      ],
      "metadata": {
        "colab": {
          "base_uri": "https://localhost:8080/"
        },
        "id": "sXDfc7I3UEe6",
        "outputId": "8a0f9b3a-62e4-4bf8-ee4b-59a7638160a6"
      },
      "execution_count": null,
      "outputs": [
        {
          "output_type": "stream",
          "name": "stdout",
          "text": [
            "Looking in indexes: https://pypi.org/simple, https://us-python.pkg.dev/colab-wheels/public/simple/\n",
            "Requirement already satisfied: kaggle in /usr/local/lib/python3.7/dist-packages (1.5.12)\n",
            "Requirement already satisfied: tqdm in /usr/local/lib/python3.7/dist-packages (from kaggle) (4.64.1)\n",
            "Requirement already satisfied: python-slugify in /usr/local/lib/python3.7/dist-packages (from kaggle) (6.1.2)\n",
            "Requirement already satisfied: six>=1.10 in /usr/local/lib/python3.7/dist-packages (from kaggle) (1.15.0)\n",
            "Requirement already satisfied: urllib3 in /usr/local/lib/python3.7/dist-packages (from kaggle) (1.24.3)\n",
            "Requirement already satisfied: certifi in /usr/local/lib/python3.7/dist-packages (from kaggle) (2022.9.24)\n",
            "Requirement already satisfied: requests in /usr/local/lib/python3.7/dist-packages (from kaggle) (2.23.0)\n",
            "Requirement already satisfied: python-dateutil in /usr/local/lib/python3.7/dist-packages (from kaggle) (2.8.2)\n",
            "Requirement already satisfied: text-unidecode>=1.3 in /usr/local/lib/python3.7/dist-packages (from python-slugify->kaggle) (1.3)\n",
            "Requirement already satisfied: idna<3,>=2.5 in /usr/local/lib/python3.7/dist-packages (from requests->kaggle) (2.10)\n",
            "Requirement already satisfied: chardet<4,>=3.0.2 in /usr/local/lib/python3.7/dist-packages (from requests->kaggle) (3.0.4)\n"
          ]
        }
      ]
    },
    {
      "cell_type": "code",
      "source": [
        "! mkdir -p ./drive/MyDrive/kaggle/quickdraw-doodle-recognition"
      ],
      "metadata": {
        "id": "swdSKpQzUH-u"
      },
      "execution_count": null,
      "outputs": []
    },
    {
      "cell_type": "code",
      "source": [
        "! kaggle competitions download quickdraw-doodle-recognition -f ./train_simplified/pandas.csv -p ./drive/MyDrive/kaggle/quickdraw-doodle-recognition"
      ],
      "metadata": {
        "colab": {
          "base_uri": "https://localhost:8080/"
        },
        "id": "O1QEylt-WXn9",
        "outputId": "512366ae-512e-4c26-8c40-25f69a57f09b"
      },
      "execution_count": null,
      "outputs": [
        {
          "output_type": "stream",
          "name": "stdout",
          "text": [
            "Traceback (most recent call last):\n",
            "  File \"/usr/local/bin/kaggle\", line 5, in <module>\n",
            "    from kaggle.cli import main\n",
            "  File \"/usr/local/lib/python3.7/dist-packages/kaggle/__init__.py\", line 23, in <module>\n",
            "    api.authenticate()\n",
            "  File \"/usr/local/lib/python3.7/dist-packages/kaggle/api/kaggle_api_extended.py\", line 166, in authenticate\n",
            "    self.config_file, self.config_dir))\n",
            "OSError: Could not find kaggle.json. Make sure it's located in /root/.kaggle. Or use the environment method.\n"
          ]
        }
      ]
    },
    {
      "cell_type": "code",
      "source": [
        "!mkdir ~/.kaggle\n",
        "!touch ~/.kaggle/kaggle.json\n",
        "\n",
        "api_token = {\"username\":\"yuni000\",\"key\":\"cab374f6862b6a75afba7eecfc85931c\"}\n",
        "\n",
        "import json\n",
        "\n",
        "with open('/root/.kaggle/kaggle.json', 'w') as file:\n",
        "    json.dump(api_token, file)\n",
        "\n",
        "!chmod 600 ~/.kaggle/kaggle.json"
      ],
      "metadata": {
        "colab": {
          "base_uri": "https://localhost:8080/"
        },
        "id": "F9lN-mgXX8tG",
        "outputId": "c5796692-9d7d-4e6f-8698-6d0cd3e3a80b"
      },
      "execution_count": 26,
      "outputs": [
        {
          "output_type": "stream",
          "name": "stdout",
          "text": [
            "mkdir: cannot create directory ‘/root/.kaggle’: File exists\n"
          ]
        }
      ]
    },
    {
      "cell_type": "code",
      "source": [
        "!kaggle competitions files -c quickdraw-doodle-recognition"
      ],
      "metadata": {
        "colab": {
          "base_uri": "https://localhost:8080/"
        },
        "id": "V8Cz9tDyYY2g",
        "outputId": "c21300c2-cfec-4c6b-adaf-642a07aa6bbb"
      },
      "execution_count": null,
      "outputs": [
        {
          "output_type": "stream",
          "name": "stdout",
          "text": [
            "name                                           size  creationDate         \n",
            "--------------------------------------------  -----  -------------------  \n",
            "train_raw/backpack.csv                        594MB  2019-12-15 23:30:21  \n",
            "train_raw/baseball.csv                        412MB  2019-12-15 23:30:21  \n",
            "train_raw/anvil.csv                           467MB  2019-12-15 23:30:21  \n",
            "train_raw/angel.csv                           908MB  2019-12-15 23:30:21  \n",
            "train_raw/bandage.csv                         571MB  2019-12-15 23:30:21  \n",
            "train_raw/arm.csv                             455MB  2019-12-15 23:30:21  \n",
            "train_raw/axe.csv                             392MB  2019-12-15 23:30:21  \n",
            "train_raw/baseball bat.csv                    365MB  2019-12-15 23:30:21  \n",
            "train_raw/apple.csv                           424MB  2019-12-15 23:30:21  \n",
            "train_raw/ant.csv                             383MB  2019-12-15 23:30:21  \n",
            "train_raw/asparagus.csv                       667MB  2019-12-15 23:30:21  \n",
            "train_raw/The Mona Lisa.csv                   780MB  2019-12-15 23:30:21  \n",
            "train_raw/animal migration.csv                529MB  2019-12-15 23:30:21  \n",
            "train_raw/The Eiffel Tower.csv                511MB  2019-12-15 23:30:21  \n",
            "train_raw/banana.csv                          915MB  2019-12-15 23:30:21  \n",
            "train_raw/barn.csv                            780MB  2019-12-15 23:30:21  \n",
            "train_raw/ambulance.csv                       905MB  2019-12-15 23:30:21  \n",
            "train_raw/The Great Wall of China.csv           1GB  2019-12-15 23:30:21  \n",
            "train_raw/alarm clock.csv                     509MB  2019-12-15 23:30:21  \n",
            "train_raw/airplane.csv                        760MB  2019-12-15 23:30:21  \n",
            "train_simplified/backpack.csv                  67MB  2019-12-15 23:30:21  \n",
            "train_simplified/baseball.csv                  63MB  2019-12-15 23:30:21  \n",
            "train_simplified/anvil.csv                     42MB  2019-12-15 23:30:21  \n",
            "train_simplified/angel.csv                    103MB  2019-12-15 23:30:21  \n",
            "train_simplified/bandage.csv                   63MB  2019-12-15 23:30:21  \n",
            "train_simplified/arm.csv                       44MB  2019-12-15 23:30:21  \n",
            "train_simplified/axe.csv                       36MB  2019-12-15 23:30:21  \n",
            "train_simplified/baseball bat.csv              38MB  2019-12-15 23:30:21  \n",
            "train_simplified/apple.csv                     56MB  2019-12-15 23:30:21  \n",
            "train_simplified/ant.csv                       73MB  2019-12-15 23:30:21  \n",
            "train_simplified/asparagus.csv                 78MB  2019-12-15 23:30:21  \n",
            "train_simplified/The Mona Lisa.csv             81MB  2019-12-15 23:30:21  \n",
            "train_simplified/animal migration.csv          69MB  2019-12-15 23:30:21  \n",
            "train_simplified/The Eiffel Tower.csv          46MB  2019-12-15 23:30:21  \n",
            "train_simplified/banana.csv                   100MB  2019-12-15 23:30:21  \n",
            "train_simplified/barn.csv                      65MB  2019-12-15 23:30:21  \n",
            "train_simplified/ambulance.csv                 93MB  2019-12-15 23:30:21  \n",
            "train_simplified/The Great Wall of China.csv   85MB  2019-12-15 23:30:21  \n",
            "train_simplified/alarm clock.csv               76MB  2019-12-15 23:30:21  \n",
            "train_simplified/airplane.csv                  63MB  2019-12-15 23:30:21  \n",
            "sample_submission.csv                           5MB  2019-12-15 23:30:21  \n",
            "test_simplified.csv                            59MB  2019-12-15 23:30:21  \n",
            "test_raw.csv                                  589MB  2019-12-15 23:30:21  \n"
          ]
        }
      ]
    },
    {
      "cell_type": "code",
      "source": [
        "! kaggle competitions download quickdraw-doodle-recognition -f train_simplified/panda.csv -p ./drive/MyDrive/kaggle/sketch"
      ],
      "metadata": {
        "colab": {
          "base_uri": "https://localhost:8080/"
        },
        "id": "_aRhSj3qa9RS",
        "outputId": "e4a7580b-55e5-4498-86d0-52d66b588bf7"
      },
      "execution_count": null,
      "outputs": [
        {
          "output_type": "stream",
          "name": "stdout",
          "text": [
            "Downloading panda.csv.zip to ./drive/MyDrive/kaggle/sketch\n",
            " 93% 35.0M/37.5M [00:00<00:00, 129MB/s]\n",
            "100% 37.5M/37.5M [00:00<00:00, 120MB/s]\n"
          ]
        }
      ]
    },
    {
      "cell_type": "code",
      "source": [
        "! kaggle competitions download quickdraw-doodle-recognition -f train_simplified/rabbit.csv -p ./drive/MyDrive/kaggle/sketch\n",
        "! kaggle competitions download quickdraw-doodle-recognition -f train_simplified/frog.csv -p ./drive/MyDrive/kaggle/sketch\n",
        "! kaggle competitions download quickdraw-doodle-recognition -f train_simplified/fish.csv -p ./drive/MyDrive/kaggle/sketch\n",
        "! kaggle competitions download quickdraw-doodle-recognition -f train_simplified/lion.csv -p ./drive/MyDrive/kaggle/sketch\n",
        "! kaggle competitions download quickdraw-doodle-recognition -f train_simplified/dog.csv -p ./drive/MyDrive/kaggle/sketch\n",
        "! kaggle competitions download quickdraw-doodle-recognition -f train_simplified/cow.csv -p ./drive/MyDrive/kaggle/sketch\n",
        "! kaggle competitions download quickdraw-doodle-recognition -f train_simplified/bear.csv -p ./drive/MyDrive/kaggle/sketch\n",
        "! kaggle competitions download quickdraw-doodle-recognition -f train_simplified/giraffe.csv -p ./drive/MyDrive/kaggle/sketch\n",
        "! kaggle competitions download quickdraw-doodle-recognition -f train_simplified/squirrel.csv -p ./drive/MyDrive/kaggle/sketch\n"
      ],
      "metadata": {
        "colab": {
          "base_uri": "https://localhost:8080/"
        },
        "id": "jVcLUfpUbfE7",
        "outputId": "876c152e-ffab-4214-9fbe-546bfed4a3b3"
      },
      "execution_count": null,
      "outputs": [
        {
          "output_type": "stream",
          "name": "stdout",
          "text": [
            "rabbit.csv: Skipping, found more recently modified local copy (use --force to force download)\n",
            "frog.csv.zip: Skipping, found more recently modified local copy (use --force to force download)\n",
            "fish.csv.zip: Skipping, found more recently modified local copy (use --force to force download)\n",
            "lion.csv.zip: Skipping, found more recently modified local copy (use --force to force download)\n",
            "dog.csv.zip: Skipping, found more recently modified local copy (use --force to force download)\n",
            "cow.csv.zip: Skipping, found more recently modified local copy (use --force to force download)\n",
            "bear.csv: Skipping, found more recently modified local copy (use --force to force download)\n",
            "giraffe.csv.zip: Skipping, found more recently modified local copy (use --force to force download)\n",
            "squirrel.csv: Skipping, found more recently modified local copy (use --force to force download)\n"
          ]
        }
      ]
    },
    {
      "cell_type": "code",
      "source": [
        "! cd ./drive/MyDrive/kaggle/sketch\n",
        "! ls\n",
        "! cd sample_data\n",
        "! ls"
      ],
      "metadata": {
        "colab": {
          "base_uri": "https://localhost:8080/"
        },
        "id": "JYHkczZHcMbl",
        "outputId": "c426723c-777d-4013-fce6-953ccf0fe085"
      },
      "execution_count": null,
      "outputs": [
        {
          "output_type": "stream",
          "name": "stdout",
          "text": [
            "drive  sample_data\n",
            "drive  sample_data\n"
          ]
        }
      ]
    },
    {
      "cell_type": "code",
      "source": [
        "! unzip ./drive/MyDrive/kaggle/sketch/giraffe.csv.zip"
      ],
      "metadata": {
        "colab": {
          "base_uri": "https://localhost:8080/"
        },
        "id": "fBJXoHv9dELP",
        "outputId": "62089539-3fe7-489a-9643-3e1841c411da"
      },
      "execution_count": null,
      "outputs": [
        {
          "output_type": "stream",
          "name": "stdout",
          "text": [
            "Archive:  ./drive/MyDrive/kaggle/sketch/giraffe.csv.zip\n",
            "  inflating: giraffe.csv             \n"
          ]
        }
      ]
    },
    {
      "cell_type": "code",
      "source": [
        "! cd ./drive/MyDrive/kaggle/sketch\n",
        "! pwd"
      ],
      "metadata": {
        "colab": {
          "base_uri": "https://localhost:8080/"
        },
        "id": "7IKbg2tdd8qg",
        "outputId": "a4134647-d26e-46cb-b857-390c390a1d79"
      },
      "execution_count": null,
      "outputs": [
        {
          "output_type": "stream",
          "name": "stdout",
          "text": [
            "/content\n"
          ]
        }
      ]
    },
    {
      "cell_type": "code",
      "source": [
        "! cd ./drive/MyDrive/kaggle/sketch\n",
        "! unzip ./drive/MyDrive/kaggle/sketch/giraffe.csv.zip -d /content/drive/MyDrive/kaggle/sketch"
      ],
      "metadata": {
        "colab": {
          "base_uri": "https://localhost:8080/"
        },
        "id": "DiMHjCY4eSyO",
        "outputId": "60503061-a258-45af-b1c2-fa6c3ca36fcb"
      },
      "execution_count": null,
      "outputs": [
        {
          "output_type": "stream",
          "name": "stdout",
          "text": [
            "Archive:  ./drive/MyDrive/kaggle/sketch/giraffe.csv.zip\n",
            "  inflating: /content/drive/MyDrive/kaggle/sketch/giraffe.csv  \n"
          ]
        }
      ]
    },
    {
      "cell_type": "code",
      "source": [
        "! unzip ./drive/MyDrive/kaggle/sketch/cow.csv.zip -d /content/drive/MyDrive/kaggle/sketch\n",
        "! unzip ./drive/MyDrive/kaggle/sketch/dog.csv.zip -d /content/drive/MyDrive/kaggle/sketch\n",
        "! unzip ./drive/MyDrive/kaggle/sketch/fish.csv.zip -d /content/drive/MyDrive/kaggle/sketch\n",
        "! unzip ./drive/MyDrive/kaggle/sketch/frog.csv.zip -d /content/drive/MyDrive/kaggle/sketch\n",
        "! unzip ./drive/MyDrive/kaggle/sketch/lion.csv.zip -d /content/drive/MyDrive/kaggle/sketch"
      ],
      "metadata": {
        "colab": {
          "base_uri": "https://localhost:8080/"
        },
        "id": "gEDcE-c9euXU",
        "outputId": "4e9f0e21-b7cc-477f-c514-9ed70377bc1e"
      },
      "execution_count": null,
      "outputs": [
        {
          "output_type": "stream",
          "name": "stdout",
          "text": [
            "Archive:  ./drive/MyDrive/kaggle/sketch/cow.csv.zip\n",
            "  inflating: /content/drive/MyDrive/kaggle/sketch/cow.csv  \n",
            "Archive:  ./drive/MyDrive/kaggle/sketch/dog.csv.zip\n",
            "  inflating: /content/drive/MyDrive/kaggle/sketch/dog.csv  \n",
            "Archive:  ./drive/MyDrive/kaggle/sketch/fish.csv.zip\n",
            "  inflating: /content/drive/MyDrive/kaggle/sketch/fish.csv  \n",
            "Archive:  ./drive/MyDrive/kaggle/sketch/frog.csv.zip\n",
            "  inflating: /content/drive/MyDrive/kaggle/sketch/frog.csv  \n",
            "Archive:  ./drive/MyDrive/kaggle/sketch/lion.csv.zip\n",
            "  inflating: /content/drive/MyDrive/kaggle/sketch/lion.csv  \n"
          ]
        }
      ]
    },
    {
      "cell_type": "code",
      "source": [
        "! unzip ./drive/MyDrive/kaggle/sketch/panda.csv.zip -d /content/drive/MyDrive/kaggle/sketch"
      ],
      "metadata": {
        "colab": {
          "base_uri": "https://localhost:8080/"
        },
        "id": "6AlTLMPfgAb5",
        "outputId": "c4848665-602a-457e-b163-c1574f01945a"
      },
      "execution_count": null,
      "outputs": [
        {
          "output_type": "stream",
          "name": "stdout",
          "text": [
            "Archive:  ./drive/MyDrive/kaggle/sketch/panda.csv.zip\n",
            "  inflating: /content/drive/MyDrive/kaggle/sketch/panda.csv  \n"
          ]
        }
      ]
    },
    {
      "cell_type": "code",
      "source": [
        "categories = [\"bear\",\"camel\",\"cat\",\"dog\",\"elephant\",\"frog\",\"lion\",\"panda\",\"rabbit\",\"squirrel\"]\n",
        "# categories = ['plane', 'car', 'bird', 'cat','deer', 'dog', 'frog', 'horse', 'ship', 'truck']\n",
        "label_dict = {0:'bear',1:'camel', 2:'cat', 3:'dog', 4:'elephant',\n",
        "                      5:'frog',6:'lion', 7:'panda', 8:'rabbit', 9:'squirrel'}\n",
        "\n",
        "# load data for each category\n",
        "classes = {}\n",
        "for category in categories:\n",
        "    data = pd.read_csv(\"./drive/MyDrive/kaggle/sketch/\" + category + \".csv\")\n",
        "    classes[category] = data"
      ],
      "metadata": {
        "id": "h6oy5VsvfOnw"
      },
      "execution_count": 29,
      "outputs": []
    },
    {
      "cell_type": "code",
      "source": [
        "# Image manipulation utilities: \n",
        "\n",
        "def convert_to_PIL(drawing, width = 256, height = 256):\n",
        "    \"\"\"\n",
        "    Function to convert from drawing to PIL image.\n",
        "    INPUT:\n",
        "        drawing - drawing from 'drawing' column\n",
        "        width - width of the initial image\n",
        "        height - height of the initial image\n",
        "    OUTPUT:\n",
        "        pil_img - (PIL Image) image\n",
        "    \"\"\"\n",
        "    \n",
        "    # initialize empty (white) PIL image\n",
        "    pil_img = Image.new('RGB', (width, height), 'white')\n",
        "    pixels = pil_img.load()\n",
        "            \n",
        "    draw = ImageDraw.Draw(pil_img)\n",
        "    \n",
        "    # draw strokes as lines\n",
        "    for x,y in drawing:\n",
        "        for i in range(1, len(x)):\n",
        "            draw.line((x[i-1], y[i-1], x[i], y[i]), fill=0)\n",
        "        \n",
        "    return pil_img\n",
        "\n",
        "\n",
        "def convert_to_np_raw(drawing, width = 256, height = 256):\n",
        "    \"\"\"\n",
        "    INPUT:\n",
        "        drawing - drawing in initial format\n",
        "        width - width of the initial image\n",
        "        height - height of the initial image\n",
        "    OUTPUT:\n",
        "        img - drawing converted to the numpy array (28 X 28)\n",
        "    \"\"\"\n",
        "    # initialize empty numpy array\n",
        "    img = np.zeros((28, 28))\n",
        "    \n",
        "    # create a PIL image out of drawing\n",
        "    pil_img = convert_to_PIL(drawing)\n",
        "    \n",
        "    #resize to 28,28\n",
        "    pil_img.thumbnail((28,28), Image.ANTIALIAS)\n",
        "    \n",
        "    pil_img = pil_img.convert('RGB')\n",
        "    pixels = pil_img.load()\n",
        "\n",
        "    # fill in numpy array with pixel values\n",
        "    for i in range(0, 28):\n",
        "        for j in range(0, 28):\n",
        "            img[i, j] = 1 - pixels[j, i][0] / 255\n",
        "    \n",
        "    return img\n",
        "\n",
        "def convert_to_np(pil_img, width = 256, height = 256):\n",
        "    \"\"\"\n",
        "    Function to convert PIL Image to numpy array.\n",
        "    INPUT:\n",
        "        pil_img - (PIL Image) image to be converted\n",
        "    OUTPUT:\n",
        "        img - (numpy array) converted image with shape (width, height)\n",
        "    \"\"\"\n",
        "    pil_img = pil_img.convert('RGB')\n",
        "\n",
        "    img = np.zeros((width, height))\n",
        "    pixels = pil_img.load()\n",
        "\n",
        "    for i in range(0, width):\n",
        "      for j in range(0, height):\n",
        "            img[i, j] = 1 - pixels[j, i][0] / 255\n",
        "\n",
        "    return img\n",
        "\n",
        "def view_image(img, width = 256, height = 256):\n",
        "    \"\"\"\n",
        "    Function to view numpy image with matplotlib.\n",
        "    The function saves the image as png.\n",
        "    INPUT:\n",
        "        img - (numpy array) image from train dataset with size (1, 784)\n",
        "    OUTPUT:\n",
        "    None\n",
        "    \"\"\"\n",
        "    fig, ax = plt.subplots(figsize=(6,9))\n",
        "    ax.imshow(img.reshape(width, height).squeeze())\n",
        "    ax.axis('off')\n",
        "\n",
        "    plt.show()\n",
        "def crop_image(image):\n",
        "    \"\"\"\n",
        "    Crops image (crops out white spaces).\n",
        "    INPUT:\n",
        "        image - PIL image of original size to be cropped\n",
        "    OUTPUT:\n",
        "        cropped_image - PIL image cropped to the center  and resized to (28, 28)\n",
        "    \"\"\"\n",
        "    cropped_image = image\n",
        "\n",
        "    # get image size\n",
        "    width, height = cropped_image.size\n",
        "\n",
        "    # get image pixels\n",
        "    pixels = cropped_image.load()\n",
        "\n",
        "    image_strokes_rows = []\n",
        "    image_strokes_cols = []\n",
        "\n",
        "    # run through the image\n",
        "    for i in range(0, width):\n",
        "        for j in range(0, height):\n",
        "            # save coordinates of the image\n",
        "            if (pixels[i,j][0] > 0):\n",
        "                image_strokes_cols.append(i)\n",
        "                image_strokes_rows.append(j)\n",
        "\n",
        "    # if image is not empty then crop to contents of the image\n",
        "    if (len(image_strokes_rows)) > 0:\n",
        "        # find the box for image\n",
        "        row_min = np.array(image_strokes_rows).min()\n",
        "        row_max = np.array(image_strokes_rows).max()\n",
        "        col_min = np.array(image_strokes_cols).min()\n",
        "        col_max = np.array(image_strokes_cols).max()\n",
        "\n",
        "        # find the box for cropping\n",
        "        margin = min(row_min, height - row_max, col_min, width - col_max)\n",
        "\n",
        "        # crop image\n",
        "        border = (col_min, row_min, width - col_max, height - row_max)\n",
        "        cropped_image = ImageOps.crop(cropped_image, border)\n",
        "\n",
        "    # get cropped image size\n",
        "    width_cropped, height_cropped = cropped_image.size\n",
        "\n",
        "    # create square resulting image to paste cropped image into the center\n",
        "    dst_im = Image.new(\"RGBA\", (max(width_cropped, height_cropped), max(width_cropped, height_cropped)), \"white\")\n",
        "    offset = ((max(width_cropped, height_cropped) - width_cropped) // 2, (max(width_cropped, height_cropped) - height_cropped) // 2)\n",
        "    # paste to the center of a resulting image\n",
        "    dst_im.paste(cropped_image, offset)\n",
        "\n",
        "    #resize to 28,28\n",
        "    dst_im.thumbnail((28,28), Image.ANTIALIAS)\n",
        "\n",
        "    return dst_im\n",
        "def normalize(arr):\n",
        "    \"\"\"\n",
        "    Function performs the linear normalizarion of the array.\n",
        "    https://stackoverflow.com/questions/7422204/intensity-normalization-of-image-using-pythonpil-speed-issues\n",
        "    http://en.wikipedia.org/wiki/Normalization_%28image_processing%29\n",
        "    INPUT:\n",
        "        arr - orginal numpy array\n",
        "    OUTPUT:\n",
        "        arr - normalized numpy array\n",
        "    \"\"\"\n",
        "    arr = arr.astype('float')\n",
        "    # Do not touch the alpha channel\n",
        "    for i in range(3):\n",
        "        minval = arr[...,i].min()\n",
        "        maxval = arr[...,i].max()\n",
        "        if minval != maxval:\n",
        "            arr[...,i] -= minval\n",
        "            arr[...,i] *= (255.0/(maxval-minval))\n",
        "    return arr\n",
        "\n",
        "def normalize_image(image):\n",
        "    \"\"\"\n",
        "    Function performs the normalization of the image.\n",
        "    https://stackoverflow.com/questions/7422204/intensity-normalization-of-image-using-pythonpil-speed-issues\n",
        "    INPUT:\n",
        "        image - PIL image to be normalized\n",
        "    OUTPUT:\n",
        "        new_img - PIL image normalized\n",
        "    \"\"\"\n",
        "    arr = np.array(image)\n",
        "    new_img = Image.fromarray(normalize(arr).astype('uint8'),'RGBA')\n",
        "    return new_img\n",
        "\n",
        "def rotate_image(src_im, angle = 45, size = (28,28)):\n",
        "    \"\"\"\n",
        "    Function to rotate PIL Image file\n",
        "    INPUT:\n",
        "        src_im - (PIL Image) 28x28 image to be rotated\n",
        "        angle - angle to rotate the image\n",
        "        size - (tuple) size of the output image\n",
        "    OUTPUT:\n",
        "    dst_im - (PIL Image) rotated image\n",
        "    \"\"\"\n",
        "    dst_im = Image.new(\"RGBA\", size, \"white\")\n",
        "    src_im = src_im.convert('RGBA')\n",
        "\n",
        "    rot = src_im.rotate(angle)\n",
        "    dst_im.paste(rot, (0, 0), rot)\n",
        "\n",
        "    return dst_im\n",
        "def flip_image(src_im):\n",
        "    \"\"\"\n",
        "    Function to flip a PIL Image file.\n",
        "    INPUT:\n",
        "        scr_im - (PIL Image) image to be flipped\n",
        "    OUTPUT:\n",
        "        dst_im - (PIL Image) flipped image\n",
        "    \"\"\"\n",
        "    dst_im = src_im.transpose(Image.FLIP_LEFT_RIGHT)\n",
        "    return dst_im\n"
      ],
      "metadata": {
        "id": "lhHNrjwYgpyF"
      },
      "execution_count": 33,
      "outputs": []
    },
    {
      "cell_type": "code",
      "source": [
        "# shrinking the images\n",
        "\n",
        "# create the dictionary containing classes names as keys and images as values\n",
        "values_dict = {}\n",
        "for category in categories:\n",
        "    data = classes[category][:3000]\n",
        "    values = [convert_to_np_raw(ast.literal_eval(img)).reshape(1, 784) for img in data['drawing'].values]\n",
        "    values_dict[category] = values\n",
        "    \n",
        "# concatenate to create X (values) and y (labels) datasets\n",
        "X = []\n",
        "y = []\n",
        "\n",
        "for key, value in label_dict.items():\n",
        "    data_i = values_dict[value]\n",
        "    Xi = np.concatenate(data_i, axis = 0)\n",
        "    yi = np.full((len(Xi), 1), key).ravel()\n",
        "    \n",
        "    X.append(Xi)\n",
        "    y.append(yi)\n",
        "X = np.concatenate(X, axis = 0)\n",
        "y = np.concatenate(y, axis = 0)"
      ],
      "metadata": {
        "id": "c5NpFK00hyH0"
      },
      "execution_count": 34,
      "outputs": []
    },
    {
      "cell_type": "code",
      "source": [],
      "metadata": {
        "id": "4RB1LIMcoc7K"
      },
      "execution_count": null,
      "outputs": []
    },
    {
      "cell_type": "code",
      "source": [
        "def view_images_grid(X, y):\n",
        "    \"\"\"\n",
        "    Function to plot grid with several examples of images.\n",
        "    INPUT:\n",
        "        X - (numpy array) images dataset\n",
        "        y - (numpy array) labels for images from X dataset\n",
        "\n",
        "    OUTPUT: None\n",
        "    \"\"\"\n",
        "    fig, axs = plt.subplots(5, 10, figsize=(20,10))\n",
        "    \n",
        "    for label_num in range(0,50):\n",
        "        r_label = random.randint(0, len(X) - 1)\n",
        "        image = X[r_label].reshape(28,28)  #reshape images\n",
        "        i = label_num // 10\n",
        "        j = label_num % 10\n",
        "        axs[i,j].imshow(image) #plot the data\n",
        "        axs[i,j].axis('off')\n",
        "        axs[i,j].set_title(label_dict[y[r_label]])\n",
        "    plt.show()"
      ],
      "metadata": {
        "id": "h7EYyhU0iBnh"
      },
      "execution_count": 35,
      "outputs": []
    },
    {
      "cell_type": "code",
      "source": [
        "view_images_grid(X, y)"
      ],
      "metadata": {
        "colab": {
          "base_uri": "https://localhost:8080/",
          "height": 534
        },
        "id": "_BCXp0tuiL5e",
        "outputId": "d8f3b011-167d-4112-f157-8f61bcaa7f5f"
      },
      "execution_count": 36,
      "outputs": [
        {
          "output_type": "display_data",
          "data": {
            "text/plain": [
              "<Figure size 1440x720 with 50 Axes>"
            ],
            "image/png": "[encoded data removed]"
          },
          "metadata": {
            "needs_background": "light"
          }
        }
      ]
    },
    {
      "cell_type": "code",
      "source": [
        "def get_label_heatmap(X, y, label, label_name):\n",
        "    \"\"\"\n",
        "    Function to plot the heatmap for images with same label.\n",
        "    INPUT:\n",
        "        X - (numpy array) dataset\n",
        "        y - (numpy array) labels for X dataset\n",
        "        label - (int) label for images\n",
        "        label_name - (str) name for images label\n",
        "\n",
        "    OUTPUT: None\n",
        "    \"\"\"\n",
        "    # filter X_train to remove all other images\n",
        "    label_filter = y == label\n",
        "    X = pd.DataFrame(X)\n",
        "    X_labeled = X[label_filter]\n",
        "\n",
        "    # find mean value for pixels\n",
        "    X_mean = np.sum(X_labeled, axis = 0).values\n",
        "\n",
        "    return X_mean"
      ],
      "metadata": {
        "id": "AgrjrJWziPT6"
      },
      "execution_count": 37,
      "outputs": []
    },
    {
      "cell_type": "code",
      "source": [
        "fig, axs = plt.subplots(2,5, figsize=(10,5))\n",
        "\n",
        "for key, value in label_dict.items():\n",
        "    # get heatmap\n",
        "    heatmap = get_label_heatmap(X, y, key, value)\n",
        "    \n",
        "    i = key // 5\n",
        "    j = key % 5\n",
        "    \n",
        "    # plot image\n",
        "    axs[i,j].set_title(value)\n",
        "    axs[i,j].imshow(heatmap.reshape(28, 28).squeeze())\n",
        "    axs[i,j].axis('off')\n",
        "    \n",
        "plt.show()\n"
      ],
      "metadata": {
        "colab": {
          "base_uri": "https://localhost:8080/",
          "height": 291
        },
        "id": "P1z0YB0DiaXy",
        "outputId": "47a801a0-6b2f-4b9e-b8bf-91e56a5ce653"
      },
      "execution_count": 38,
      "outputs": [
        {
          "output_type": "display_data",
          "data": {
            "text/plain": [
              "<Figure size 720x360 with 10 Axes>"
            ],
            "image/png": "[encoded data removed]"
          },
          "metadata": {
            "needs_background": "light"
          }
        }
      ]
    },
    {
      "cell_type": "code",
      "source": [
        "def build_model(input_size, output_size, hidden_sizes, dropout = 0.0):\n",
        "    '''\n",
        "    Function creates deep learning model based on parameters passed.\n",
        "\n",
        "    INPUT:\n",
        "        input_size, output_size, hidden_sizes - layer sizes\n",
        "        dropout - dropout (probability of keeping a node)\n",
        "\n",
        "    OUTPUT:\n",
        "        model - deep learning model\n",
        "    '''\n",
        "\n",
        "    # Build a feed-forward network\n",
        "    model = nn.Sequential(OrderedDict([\n",
        "                          ('fc1', nn.Linear(input_size, hidden_sizes[0])),\n",
        "                          ('relu1', nn.ReLU()),\n",
        "                          ('fc2', nn.Linear(hidden_sizes[0], hidden_sizes[1])),\n",
        "                          ('bn2', nn.BatchNorm1d(num_features=hidden_sizes[1])),\n",
        "                          ('relu2', nn.ReLU()),\n",
        "                          ('dropout', nn.Dropout(dropout)),\n",
        "                          ('fc3', nn.Linear(hidden_sizes[1], hidden_sizes[2])),\n",
        "                          ('bn3', nn.BatchNorm1d(num_features=hidden_sizes[2])),\n",
        "                          ('relu3', nn.ReLU()),\n",
        "                          ('logits', nn.Linear(hidden_sizes[2], output_size))]))\n",
        "\n",
        "    return model\n",
        "\n",
        "def shuffle(X_train, y_train):\n",
        "    \"\"\"\n",
        "    Function which shuffles training dataset.\n",
        "    INPUT:\n",
        "        X_train - (tensor) training set\n",
        "        y_train - (tensor) labels for training set\n",
        "\n",
        "    OUTPUT:\n",
        "        X_train_shuffled - (tensor) shuffled training set\n",
        "        y_train_shuffled - (tensor) shuffled labels for training set\n",
        "        \"\"\"\n",
        "    X_train_shuffled = X_train.numpy()\n",
        "    y_train_shuffled = y_train.numpy().reshape((X_train.shape[0], 1))\n",
        "\n",
        "    permutation = list(np.random.permutation(X_train.shape[0]))\n",
        "    X_train_shuffled = X_train_shuffled[permutation, :]\n",
        "    y_train_shuffled = y_train_shuffled[permutation, :].reshape((X_train.shape[0], 1))\n",
        "\n",
        "    X_train_shuffled = torch.from_numpy(X_train_shuffled).float()\n",
        "    y_train_shuffled = torch.from_numpy(y_train_shuffled).long()\n",
        "\n",
        "    return X_train_shuffled, y_train_shuffled\n",
        "\n",
        "def fit_model(model, X_train, y_train, epochs = 100, n_chunks = 1000, learning_rate = 0.003, weight_decay = 0, optimizer = 'SGD'):\n",
        "    \"\"\"\n",
        "    Function which fits the model.\n",
        "    INPUT:\n",
        "        model - pytorch model to fit\n",
        "        X_train - (tensor) train dataset\n",
        "        y_train - (tensor) train dataset labels\n",
        "        epochs - number of epochs\n",
        "        n_chunks - number of chunks to cplit the dataset\n",
        "        learning_rate - learning rate value\n",
        "\n",
        "    OUTPUT: None\n",
        "    \"\"\"\n",
        "\n",
        "    print(\"Fitting model with epochs = {epochs}, learning rate = {lr}\\n\"\\\n",
        "    .format(epochs = epochs, lr = learning_rate))\n",
        "\n",
        "    criterion = nn.CrossEntropyLoss()\n",
        "\n",
        "    if (optimizer == 'SGD'):\n",
        "      optimizer = optim.SGD(model.parameters(), lr=learning_rate, weight_decay= weight_decay)\n",
        "    else:\n",
        "        optimizer = optim.Adam(model.parameters(), lr=learning_rate, weight_decay= weight_decay)\n",
        "\n",
        "    print_every = 10\n",
        "\n",
        "    steps = 0\n",
        "\n",
        "    for e in range(epochs):\n",
        "        running_loss = 0\n",
        "        X_train, y_train = shuffle(X_train, y_train)\n",
        "\n",
        "        images = torch.chunk(X_train, n_chunks)\n",
        "        labels = torch.chunk(y_train, n_chunks)\n",
        "\n",
        "        for i in range(n_chunks):\n",
        "            steps += 1\n",
        "\n",
        "            optimizer.zero_grad()\n",
        "\n",
        "            # Forward and backward passes\n",
        "            output = model.forward(images[i])\n",
        "            loss = criterion(output, labels[i].squeeze())\n",
        "            loss.backward()\n",
        "            optimizer.step()\n",
        "\n",
        "            running_loss += loss.item()\n",
        "        \n",
        "        if epochs % print_every == 0:\n",
        "            print(\"Epoch: {}/{}... \".format(e+1, epochs),\n",
        "                  \"Loss: {:.4f}\".format(running_loss/print_every))\n",
        "            running_loss = 0\n",
        "                \n",
        "                \n",
        "def view_classify(img, ps):\n",
        "    \"\"\"\n",
        "    Function for viewing an image and it's predicted classes\n",
        "    with matplotlib.\n",
        "\n",
        "    INPUT:\n",
        "        img - (tensor) image file\n",
        "        ps - (tensor) predicted probabilities for each class\n",
        "    \"\"\"\n",
        "    ps = ps.data.numpy().squeeze()\n",
        "    fig, (ax1, ax2) = plt.subplots(figsize=(6,9), ncols=2)\n",
        "    ax1.imshow(img.resize_(1, 28, 28).numpy().squeeze())\n",
        "    ax1.axis('off')\n",
        "    ax2.barh(np.arange(10), ps)\n",
        "    ax2.set_aspect(0.1)\n",
        "    ax2.set_yticks(np.arange(10))\n",
        "    ax2.set_yticklabels(['panda', 'rabbit', 'frog', 'fish', 'lion', 'dog', 'cow', 'bear', 'giraffe', 'squirrel'], size='small');\n",
        "    ax2.set_title('Class Probability')\n",
        "    ax2.set_xlim(0, 1.1)\n",
        "    plt.tight_layout()\n",
        "    plt.show()\n",
        "\n",
        "\n",
        "def test_model(model, img):\n",
        "    \"\"\"\n",
        "    Function creates test view of the model's prediction for image.\n",
        "\n",
        "    INPUT:\n",
        "        model - pytorch model\n",
        "        img - (tensor) image from the dataset\n",
        "\n",
        "    OUTPUT: None\n",
        "    \"\"\"\n",
        "\n",
        "    # Convert 2D image to 1D vector\n",
        "    img = img.resize_(1, 784)\n",
        "\n",
        "    ps = get_preds(model, img)\n",
        "    view_classify(img.resize_(1, 28, 28), ps)\n",
        "\n",
        "\n",
        "def get_preds(model, input):\n",
        "    \"\"\"\n",
        "    Function to get predicted probabilities from the model for each class.\n",
        "\n",
        "    INPUT:\n",
        "        model - pytorch model\n",
        "        input - (tensor) input vector\n",
        "\n",
        "    OUTPUT:\n",
        "        ps - (tensor) vector of predictions\n",
        "    \"\"\"\n",
        "\n",
        "    # Turn off gradients to speed up this part\n",
        "    with torch.no_grad():\n",
        "        logits = model.forward(input)\n",
        "    ps = F.softmax(logits, dim=1)\n",
        "    return ps\n",
        "\n",
        "def get_labels(pred):\n",
        "    \"\"\"\n",
        "        Function to get the vector of predicted labels for the images in\n",
        "        the dataset.\n",
        "\n",
        "        INPUT:\n",
        "            pred - (tensor) vector of predictions (probabilities for each class)\n",
        "        OUTPUT:\n",
        "            pred_labels - (numpy) array of predicted classes for each vector\n",
        "    \"\"\"\n",
        "\n",
        "    pred_np = pred.numpy()\n",
        "    pred_values = np.amax(pred_np, axis=1, keepdims=True)\n",
        "    pred_labels = np.array([np.where(pred_np[i, :] == pred_values[i, :])[0] for i in range(pred_np.shape[0])])\n",
        "    pred_labels = pred_labels.reshape(len(pred_np), 1)\n",
        "\n",
        "    return pred_labels\n",
        "def evaluate_model(model, train, y_train, test, y_test):\n",
        "    \"\"\"\n",
        "    Function to print out train and test accuracy of the model.\n",
        "\n",
        "    INPUT:\n",
        "        model - pytorch model\n",
        "        train - (tensor) train dataset\n",
        "        y_train - (numpy) labels for train dataset\n",
        "        test - (tensor) test dataset\n",
        "        y_test - (numpy) labels for test dataset\n",
        "\n",
        "    OUTPUT:\n",
        "        accuracy_train - accuracy on train dataset\n",
        "        accuracy_test - accuracy on test dataset\n",
        "    \"\"\"\n",
        "    train_pred = get_preds(model, train)\n",
        "    train_pred_labels = get_labels(train_pred)\n",
        "\n",
        "    test_pred = get_preds(model, test)\n",
        "    test_pred_labels = get_labels(test_pred)\n",
        "\n",
        "    accuracy_train = accuracy_score(y_train, train_pred_labels)\n",
        "    accuracy_test = accuracy_score(y_test, test_pred_labels)\n",
        "\n",
        "    print(\"Accuracy score for train set is {} \\n\".format(accuracy_train))\n",
        "    print(\"Accuracy score for test set is {} \\n\".format(accuracy_test))\n",
        "\n",
        "    return accuracy_train, accuracy_test\n",
        "\n",
        "def plot_learning_curve(input_size, output_size, hidden_sizes, train, labels, y_train, test, y_test, learning_rate = 0.003, weight_decay = 0.0, dropout = 0.0, n_chunks = 1000, optimizer = 'SGD'):\n",
        "    \"\"\"\n",
        "    Function to plot learning curve depending on the number of epochs.\n",
        "\n",
        "    INPUT:\n",
        "        input_size, output_size, hidden_sizes - model parameters\n",
        "        train - (tensor) train dataset\n",
        "        labels - (tensor) labels for train dataset\n",
        "        y_train - (numpy) labels for train dataset\n",
        "        test - (tensor) test dataset\n",
        "        y_test - (numpy) labels for test dataset\n",
        "        learning_rate - learning rate hyperparameter\n",
        "        weight_decay - weight decay (regularization)\n",
        "        dropout - dropout for hidden layer\n",
        "        n_chunks - the number of minibatches to train the model\n",
        "        optimizer - optimizer to be used for training (SGD or Adam)\n",
        "\n",
        "    OUTPUT: None\n",
        "    \"\"\"\n",
        "    train_acc = []\n",
        "    test_acc = []\n",
        "\n",
        "    for epochs in np.arange(10, 60, 10):\n",
        "        # create model\n",
        "        model = build_model(input_size, output_size, hidden_sizes, dropout = dropout)\n",
        "\n",
        "        # fit model\n",
        "        fit_model(model, train, labels, epochs = epochs, n_chunks = n_chunks, learning_rate = learning_rate, weight_decay = weight_decay, optimizer = 'SGD')\n",
        "        # get accuracy\n",
        "        accuracy_train, accuracy_test = evaluate_model(model, train, y_train, test, y_test)\n",
        "\n",
        "        train_acc.append(accuracy_train)\n",
        "        test_acc.append(accuracy_test)\n",
        "    \n",
        "    return train_acc, test_acc"
      ],
      "metadata": {
        "id": "9C2AbGTFiqSU"
      },
      "execution_count": 39,
      "outputs": []
    },
    {
      "cell_type": "code",
      "source": [
        "# Split dataset into train/test splits\n",
        "X_train, X_test, y_train, y_test = train_test_split(X,y,test_size=0.3,random_state=1)"
      ],
      "metadata": {
        "id": "f-Un2aBkiqJx"
      },
      "execution_count": 40,
      "outputs": []
    },
    {
      "cell_type": "code",
      "source": [
        "# Convert to tensors\n",
        "train = torch.from_numpy(X_train).float()\n",
        "labels = torch.from_numpy(y_train).long()\n",
        "test = torch.from_numpy(X_test).float()\n",
        "test_labels = torch.from_numpy(y_test).long()\n",
        "\n",
        "# Set hyperparameters for our network\n",
        "input_size = 784\n",
        "hidden_sizes = [128, 100, 64]\n",
        "output_size = 10\n",
        "\n",
        "dropout = 0.0\n",
        "weight_decay = 0.0\n",
        "n_chunks = 700\n",
        "learning_rate = 0.03\n",
        "optimizer = 'SGD'"
      ],
      "metadata": {
        "id": "Q7rF46BRlPWG"
      },
      "execution_count": 41,
      "outputs": []
    },
    {
      "cell_type": "code",
      "source": [
        "# Build model\n",
        "model = build_model(input_size, output_size, hidden_sizes, dropout = dropout)\n",
        "\n",
        "# Fit model\n",
        "train_acc, test_acc = plot_learning_curve(input_size, output_size, hidden_sizes, train, labels, y_train, test, y_test, learning_rate = learning_rate, dropout = dropout, weight_decay = weight_decay, n_chunks = n_chunks, optimizer = optimizer)"
      ],
      "metadata": {
        "colab": {
          "base_uri": "https://localhost:8080/"
        },
        "id": "xUNWkiKZlVHt",
        "outputId": "3481996b-4515-42fd-a88b-cf0b87b5dda0"
      },
      "execution_count": 42,
      "outputs": [
        {
          "output_type": "stream",
          "name": "stdout",
          "text": [
            "Fitting model with epochs = 10, learning rate = 0.03\n",
            "\n",
            "Epoch: 1/10...  Loss: 124.0296\n",
            "Epoch: 2/10...  Loss: 105.0081\n",
            "Epoch: 3/10...  Loss: 96.3957\n",
            "Epoch: 4/10...  Loss: 89.3552\n",
            "Epoch: 5/10...  Loss: 83.4946\n",
            "Epoch: 6/10...  Loss: 78.9143\n",
            "Epoch: 7/10...  Loss: 74.0889\n",
            "Epoch: 8/10...  Loss: 70.1581\n",
            "Epoch: 9/10...  Loss: 66.0011\n",
            "Epoch: 10/10...  Loss: 63.3358\n",
            "Accuracy score for train set is 0.7917619047619048 \n",
            "\n",
            "Accuracy score for test set is 0.5456666666666666 \n",
            "\n",
            "Fitting model with epochs = 20, learning rate = 0.03\n",
            "\n",
            "Epoch: 1/20...  Loss: 123.5107\n",
            "Epoch: 2/20...  Loss: 104.4017\n",
            "Epoch: 3/20...  Loss: 96.0030\n",
            "Epoch: 4/20...  Loss: 89.5219\n",
            "Epoch: 5/20...  Loss: 84.4897\n",
            "Epoch: 6/20...  Loss: 79.4297\n",
            "Epoch: 7/20...  Loss: 75.2746\n",
            "Epoch: 8/20...  Loss: 71.7222\n",
            "Epoch: 9/20...  Loss: 67.3230\n",
            "Epoch: 10/20...  Loss: 64.1890\n",
            "Epoch: 11/20...  Loss: 60.6443\n",
            "Epoch: 12/20...  Loss: 56.8822\n",
            "Epoch: 13/20...  Loss: 55.0814\n",
            "Epoch: 14/20...  Loss: 51.8562\n",
            "Epoch: 15/20...  Loss: 48.9407\n",
            "Epoch: 16/20...  Loss: 46.4759\n",
            "Epoch: 17/20...  Loss: 43.9954\n",
            "Epoch: 18/20...  Loss: 41.8005\n",
            "Epoch: 19/20...  Loss: 39.7391\n",
            "Epoch: 20/20...  Loss: 37.4696\n",
            "Accuracy score for train set is 0.9023809523809524 \n",
            "\n",
            "Accuracy score for test set is 0.509 \n",
            "\n",
            "Fitting model with epochs = 30, learning rate = 0.03\n",
            "\n",
            "Epoch: 1/30...  Loss: 124.1705\n",
            "Epoch: 2/30...  Loss: 105.3686\n",
            "Epoch: 3/30...  Loss: 96.4555\n",
            "Epoch: 4/30...  Loss: 89.7281\n",
            "Epoch: 5/30...  Loss: 84.4918\n",
            "Epoch: 6/30...  Loss: 80.0150\n",
            "Epoch: 7/30...  Loss: 75.3975\n",
            "Epoch: 8/30...  Loss: 71.3633\n",
            "Epoch: 9/30...  Loss: 67.5264\n",
            "Epoch: 10/30...  Loss: 63.5864\n",
            "Epoch: 11/30...  Loss: 60.9319\n",
            "Epoch: 12/30...  Loss: 57.7196\n",
            "Epoch: 13/30...  Loss: 54.5148\n",
            "Epoch: 14/30...  Loss: 51.8528\n",
            "Epoch: 15/30...  Loss: 49.0448\n",
            "Epoch: 16/30...  Loss: 46.3701\n",
            "Epoch: 17/30...  Loss: 43.4223\n",
            "Epoch: 18/30...  Loss: 42.6024\n",
            "Epoch: 19/30...  Loss: 40.3785\n",
            "Epoch: 20/30...  Loss: 37.8586\n",
            "Epoch: 21/30...  Loss: 35.5912\n",
            "Epoch: 22/30...  Loss: 34.1940\n",
            "Epoch: 23/30...  Loss: 32.4850\n",
            "Epoch: 24/30...  Loss: 31.5985\n",
            "Epoch: 25/30...  Loss: 29.1233\n",
            "Epoch: 26/30...  Loss: 27.4886\n",
            "Epoch: 27/30...  Loss: 26.4710\n",
            "Epoch: 28/30...  Loss: 25.1522\n",
            "Epoch: 29/30...  Loss: 24.9673\n",
            "Epoch: 30/30...  Loss: 22.9866\n",
            "Accuracy score for train set is 0.9580952380952381 \n",
            "\n",
            "Accuracy score for test set is 0.49644444444444447 \n",
            "\n",
            "Fitting model with epochs = 40, learning rate = 0.03\n",
            "\n",
            "Epoch: 1/40...  Loss: 123.9732\n",
            "Epoch: 2/40...  Loss: 104.4542\n",
            "Epoch: 3/40...  Loss: 95.6493\n",
            "Epoch: 4/40...  Loss: 89.2316\n",
            "Epoch: 5/40...  Loss: 83.7988\n",
            "Epoch: 6/40...  Loss: 78.9514\n",
            "Epoch: 7/40...  Loss: 75.0827\n",
            "Epoch: 8/40...  Loss: 70.5935\n",
            "Epoch: 9/40...  Loss: 67.6983\n",
            "Epoch: 10/40...  Loss: 63.3551\n",
            "Epoch: 11/40...  Loss: 60.1037\n",
            "Epoch: 12/40...  Loss: 56.7248\n",
            "Epoch: 13/40...  Loss: 54.0445\n",
            "Epoch: 14/40...  Loss: 51.2760\n",
            "Epoch: 15/40...  Loss: 48.4435\n",
            "Epoch: 16/40...  Loss: 45.7889\n",
            "Epoch: 17/40...  Loss: 43.5149\n",
            "Epoch: 18/40...  Loss: 40.4996\n",
            "Epoch: 19/40...  Loss: 39.5263\n",
            "Epoch: 20/40...  Loss: 37.5985\n",
            "Epoch: 21/40...  Loss: 35.6620\n",
            "Epoch: 22/40...  Loss: 33.3987\n",
            "Epoch: 23/40...  Loss: 32.0637\n",
            "Epoch: 24/40...  Loss: 30.3372\n",
            "Epoch: 25/40...  Loss: 28.5906\n",
            "Epoch: 26/40...  Loss: 27.1439\n",
            "Epoch: 27/40...  Loss: 25.8646\n",
            "Epoch: 28/40...  Loss: 25.0781\n",
            "Epoch: 29/40...  Loss: 24.1768\n",
            "Epoch: 30/40...  Loss: 23.0128\n",
            "Epoch: 31/40...  Loss: 21.0541\n",
            "Epoch: 32/40...  Loss: 21.1622\n",
            "Epoch: 33/40...  Loss: 20.0733\n",
            "Epoch: 34/40...  Loss: 18.7878\n",
            "Epoch: 35/40...  Loss: 18.7502\n",
            "Epoch: 36/40...  Loss: 17.8182\n",
            "Epoch: 37/40...  Loss: 17.8512\n",
            "Epoch: 38/40...  Loss: 15.9424\n",
            "Epoch: 39/40...  Loss: 16.5361\n",
            "Epoch: 40/40...  Loss: 15.8459\n",
            "Accuracy score for train set is 0.9792857142857143 \n",
            "\n",
            "Accuracy score for test set is 0.5055555555555555 \n",
            "\n",
            "Fitting model with epochs = 50, learning rate = 0.03\n",
            "\n",
            "Epoch: 1/50...  Loss: 123.6749\n",
            "Epoch: 2/50...  Loss: 104.6896\n",
            "Epoch: 3/50...  Loss: 95.3601\n",
            "Epoch: 4/50...  Loss: 88.0166\n",
            "Epoch: 5/50...  Loss: 82.9546\n",
            "Epoch: 6/50...  Loss: 78.4824\n",
            "Epoch: 7/50...  Loss: 73.6055\n",
            "Epoch: 8/50...  Loss: 69.7070\n",
            "Epoch: 9/50...  Loss: 65.8199\n",
            "Epoch: 10/50...  Loss: 62.4781\n",
            "Epoch: 11/50...  Loss: 59.1779\n",
            "Epoch: 12/50...  Loss: 56.5852\n",
            "Epoch: 13/50...  Loss: 52.9526\n",
            "Epoch: 14/50...  Loss: 49.9805\n",
            "Epoch: 15/50...  Loss: 47.3373\n",
            "Epoch: 16/50...  Loss: 45.4112\n",
            "Epoch: 17/50...  Loss: 43.4354\n",
            "Epoch: 18/50...  Loss: 40.5298\n",
            "Epoch: 19/50...  Loss: 38.6503\n",
            "Epoch: 20/50...  Loss: 37.2181\n",
            "Epoch: 21/50...  Loss: 34.6400\n",
            "Epoch: 22/50...  Loss: 33.2105\n",
            "Epoch: 23/50...  Loss: 31.6177\n",
            "Epoch: 24/50...  Loss: 29.0682\n",
            "Epoch: 25/50...  Loss: 27.3245\n",
            "Epoch: 26/50...  Loss: 27.0500\n",
            "Epoch: 27/50...  Loss: 26.2045\n",
            "Epoch: 28/50...  Loss: 24.7421\n",
            "Epoch: 29/50...  Loss: 23.6475\n",
            "Epoch: 30/50...  Loss: 22.3442\n",
            "Epoch: 31/50...  Loss: 21.1503\n",
            "Epoch: 32/50...  Loss: 19.5323\n",
            "Epoch: 33/50...  Loss: 18.9679\n",
            "Epoch: 34/50...  Loss: 19.0444\n",
            "Epoch: 35/50...  Loss: 18.5535\n",
            "Epoch: 36/50...  Loss: 16.8365\n",
            "Epoch: 37/50...  Loss: 16.5387\n",
            "Epoch: 38/50...  Loss: 15.8606\n",
            "Epoch: 39/50...  Loss: 15.3013\n",
            "Epoch: 40/50...  Loss: 14.8251\n",
            "Epoch: 41/50...  Loss: 14.5918\n",
            "Epoch: 42/50...  Loss: 13.7912\n",
            "Epoch: 43/50...  Loss: 13.9029\n",
            "Epoch: 44/50...  Loss: 13.2862\n",
            "Epoch: 45/50...  Loss: 12.1939\n",
            "Epoch: 46/50...  Loss: 11.7225\n",
            "Epoch: 47/50...  Loss: 12.1720\n",
            "Epoch: 48/50...  Loss: 11.0366\n",
            "Epoch: 49/50...  Loss: 10.8833\n",
            "Epoch: 50/50...  Loss: 10.6733\n",
            "Accuracy score for train set is 0.9913809523809524 \n",
            "\n",
            "Accuracy score for test set is 0.49 \n",
            "\n"
          ]
        }
      ]
    },
    {
      "cell_type": "code",
      "source": [
        "# Plot curve\n",
        "x = np.arange(10, 10 * (len(train_acc) + 1), 10)\n",
        "plt.plot(x, train_acc)\n",
        "plt.plot(x, test_acc)\n",
        "plt.legend(['train', 'test'], loc='upper left')\n",
        "plt.title('Accuracy, learning_rate = ' + str(learning_rate), fontsize=14)\n",
        "plt.xlabel('Number of epochs', fontsize=11)\n",
        "plt.ylabel('Accuracy', fontsize=11)\n",
        "plt.show()"
      ],
      "metadata": {
        "colab": {
          "base_uri": "https://localhost:8080/",
          "height": 296
        },
        "id": "nEvhiqXVoee3",
        "outputId": "e6ece497-faf4-4a60-ce83-d0bd0f77d4e6"
      },
      "execution_count": 43,
      "outputs": [
        {
          "output_type": "display_data",
          "data": {
            "text/plain": [
              "<Figure size 432x288 with 1 Axes>"
            ],
            "image/png": "[encoded data removed]"
          },
          "metadata": {
            "needs_background": "light"
          }
        }
      ]
    },
    {
      "cell_type": "code",
      "source": [
        "torch.save({\n",
        "            'epoch': 50,\n",
        "            'model_state_dict': model.state_dict(),\n",
        "            'optimizer': optimizer,\n",
        "            'train_sketch_acc': train_acc,\n",
        "            'val_realworld_acc': test_acc\n",
        "      \n",
        "          \n",
        "            }, \"/content/drive/MyDrive/kaggle/sketch\"+'/best_seq_model_sketch_50epoch_with_lr_003.pth')"
      ],
      "metadata": {
        "id": "nIcKil5jEdgB"
      },
      "execution_count": 45,
      "outputs": []
    },
    {
      "cell_type": "code",
      "source": [
        "# *****************************************************\n",
        "# ********************** HERE *************************\n",
        "# *****************************************************\n",
        "from collections import defaultdict \n",
        "features = defaultdict(list)\n",
        "\n",
        "correct = 0\n",
        "total = 0\n",
        "with torch.no_grad():\n",
        "    for data in quickdraw_testloader:\n",
        "        data['label'] = torch.argmax(data['label'].squeeze(),dim = 1)\n",
        "        images, labels = data['image'].to(device), data['label'].to(device)\n",
        "        outputs = quickdraw_model(images)\n",
        "        _, predicted = torch.max(outputs.data, 1)\n",
        "        total += labels.size(0)\n",
        "        correct += (predicted == labels).sum().item()\n",
        "\n",
        "        labels_sq = labels.tolist()\n",
        "        for i in range(outputs.shape[0]):\n",
        "              features[labels_sq[i]].append(outputs[i])\n",
        "\n",
        "print(f'Accuracy of the network on the test images: {100 * correct // total} %')\n",
        "\n",
        "fea1 = torch.empty((1000,10))\n",
        "for i in range(len(features)):\n",
        "  fea1[i*1000:1000*(i+1)] = torch.stack(features[i])\n",
        "\n",
        "fea2 = torch.empty((7000,7))\n",
        "for i in range(len(features_real)):\n",
        "  fea2[i*1000:1000*(i+1)] = torch.stack(features_real[i])\n"
      ],
      "metadata": {
        "id": "lRhncr7SJjog"
      },
      "execution_count": null,
      "outputs": []
    },
    {
      "cell_type": "code",
      "source": [
        "! kaggle competitions download imagenet-object-localization-challenge -f ILSVRC/Data/CLS-LOC/train/n02325366/n02325366_10012.JPEG -p ./drive/MyDrive/kaggle/imagenet"
      ],
      "metadata": {
        "colab": {
          "base_uri": "https://localhost:8080/"
        },
        "id": "YTFQ-rn76Chf",
        "outputId": "2e3c217e-283e-45ce-bd01-58a18cc95bb8"
      },
      "execution_count": null,
      "outputs": [
        {
          "output_type": "stream",
          "name": "stdout",
          "text": [
            "Downloading n02325366_10012.JPEG to ./drive/MyDrive/kaggle/imagenet\n",
            "\r  0% 0.00/59.1k [00:00<?, ?B/s]\n",
            "\r100% 59.1k/59.1k [00:00<00:00, 952kB/s]\n"
          ]
        }
      ]
    },
    {
      "cell_type": "code",
      "source": [
        "! kaggle competitions download quickdraw-doodle-recognition -f train_simplified/rabbit.csv -p ./drive/MyDrive/kaggle/sketch"
      ],
      "metadata": {
        "colab": {
          "base_uri": "https://localhost:8080/"
        },
        "id": "ungo8Eah9U1q",
        "outputId": "4e010866-1d4f-40c3-f772-62db4ccc41ac"
      },
      "execution_count": null,
      "outputs": [
        {
          "output_type": "stream",
          "name": "stdout",
          "text": [
            "rabbit.csv: Skipping, found more recently modified local copy (use --force to force download)\n"
          ]
        }
      ]
    },
    {
      "cell_type": "code",
      "source": [
        "!pip install wget"
      ],
      "metadata": {
        "colab": {
          "base_uri": "https://localhost:8080/"
        },
        "id": "8koG2QkAHjc6",
        "outputId": "83301f4b-63b4-47d2-a489-4996f973f129"
      },
      "execution_count": null,
      "outputs": [
        {
          "output_type": "stream",
          "name": "stdout",
          "text": [
            "Looking in indexes: https://pypi.org/simple, https://us-python.pkg.dev/colab-wheels/public/simple/\n",
            "Collecting wget\n",
            "  Downloading wget-3.2.zip (10 kB)\n",
            "Building wheels for collected packages: wget\n",
            "  Building wheel for wget (setup.py) ... \u001b[?25l\u001b[?25hdone\n",
            "  Created wheel for wget: filename=wget-3.2-py3-none-any.whl size=9675 sha256=14ddad6e2b2809e3e4d4c90a12d74775ddb061a8613a3f22f98a4df9eec449ca\n",
            "  Stored in directory: /root/.cache/pip/wheels/a1/b6/7c/0e63e34eb06634181c63adacca38b79ff8f35c37e3c13e3c02\n",
            "Successfully built wget\n",
            "Installing collected packages: wget\n",
            "Successfully installed wget-3.2\n"
          ]
        }
      ]
    },
    {
      "cell_type": "code",
      "source": [
        "!kaggle kernels output qeeevee/imagenet-pytorch -p ./drive/MyDrive/kaggle/imagenet"
      ],
      "metadata": {
        "colab": {
          "base_uri": "https://localhost:8080/"
        },
        "id": "y7dNbtXhrxcU",
        "outputId": "5d853735-e92a-4f75-b5b1-61efe27b8288"
      },
      "execution_count": null,
      "outputs": [
        {
          "output_type": "stream",
          "name": "stdout",
          "text": [
            "Output file downloaded to ./drive/MyDrive/kaggle/imagenet/resnet34.pth\n",
            "Kernel log downloaded to ./drive/MyDrive/kaggle/imagenet/imagenet-pytorch.log \n"
          ]
        }
      ]
    },
    {
      "cell_type": "code",
      "source": [
        "! kaggle competitions download quickdraw-doodle-recognition -f train_simplified/camel.csv -p ./drive/MyDrive/kaggle"
      ],
      "metadata": {
        "colab": {
          "base_uri": "https://localhost:8080/"
        },
        "id": "qoqAB2GjrxYw",
        "outputId": "cde552c6-3816-46fd-d136-12bfdba74e3a"
      },
      "execution_count": null,
      "outputs": [
        {
          "output_type": "stream",
          "name": "stdout",
          "text": [
            "Downloading camel.csv.zip to ./drive/MyDrive/kaggle\n",
            " 26% 5.00M/19.4M [00:00<00:00, 36.1MB/s]\n",
            "100% 19.4M/19.4M [00:00<00:00, 87.0MB/s]\n"
          ]
        }
      ]
    },
    {
      "cell_type": "code",
      "source": [
        "! kaggle competitions download quickdraw-doodle-recognition -f train_simplified/elephant.csv -p ./drive/MyDrive/kaggle"
      ],
      "metadata": {
        "colab": {
          "base_uri": "https://localhost:8080/"
        },
        "id": "i0NnhbfF_1Is",
        "outputId": "c05f3bac-b8aa-4d64-d265-eb44af2a0858"
      },
      "execution_count": null,
      "outputs": [
        {
          "output_type": "stream",
          "name": "stdout",
          "text": [
            "Downloading elephant.csv.zip to ./drive/MyDrive/kaggle\n",
            "100% 26.0M/26.1M [00:00<00:00, 63.7MB/s]\n",
            "100% 26.1M/26.1M [00:00<00:00, 51.6MB/s]\n"
          ]
        }
      ]
    },
    {
      "cell_type": "code",
      "source": [
        "! unzip ./drive/MyDrive/kaggle/camel.csv.zip -d /content/drive/MyDrive/kaggle/sketch\n",
        "! unzip ./drive/MyDrive/kaggle/elephant.csv.zip -d /content/drive/MyDrive/kaggle/sketch\n"
      ],
      "metadata": {
        "colab": {
          "base_uri": "https://localhost:8080/"
        },
        "id": "bTRe8oBm_41n",
        "outputId": "e6d90c73-ef3d-4e4e-ca09-c87990022413"
      },
      "execution_count": null,
      "outputs": [
        {
          "output_type": "stream",
          "name": "stdout",
          "text": [
            "Archive:  ./drive/MyDrive/kaggle/camel.csv.zip\n",
            "  inflating: /content/drive/MyDrive/kaggle/sketch/camel.csv  \n",
            "Archive:  ./drive/MyDrive/kaggle/elephant.csv.zip\n",
            "  inflating: /content/drive/MyDrive/kaggle/sketch/elephant.csv  \n"
          ]
        }
      ]
    },
    {
      "cell_type": "code",
      "source": [
        "! kaggle competitions download quickdraw-doodle-recognition -f train_simplified/cat.csv -p ./drive/MyDrive/kaggle"
      ],
      "metadata": {
        "id": "93C5GSYWAUvH",
        "colab": {
          "base_uri": "https://localhost:8080/"
        },
        "outputId": "19d9a03a-c67e-4da7-fbf6-d41eb6269ee6"
      },
      "execution_count": 27,
      "outputs": [
        {
          "output_type": "stream",
          "name": "stdout",
          "text": [
            "Downloading cat.csv.zip to ./drive/MyDrive/kaggle\n",
            " 89% 24.0M/27.0M [00:01<00:00, 27.9MB/s]\n",
            "100% 27.0M/27.0M [00:01<00:00, 18.7MB/s]\n"
          ]
        }
      ]
    },
    {
      "cell_type": "code",
      "source": [
        "! unzip ./drive/MyDrive/kaggle/cat.csv.zip -d /content/drive/MyDrive/kaggle/sketch"
      ],
      "metadata": {
        "colab": {
          "base_uri": "https://localhost:8080/"
        },
        "id": "Hok-JB2UBS1O",
        "outputId": "40be34ce-9b83-4a94-cb75-b8d7da29d1dd"
      },
      "execution_count": 28,
      "outputs": [
        {
          "output_type": "stream",
          "name": "stdout",
          "text": [
            "Archive:  ./drive/MyDrive/kaggle/cat.csv.zip\n",
            "  inflating: /content/drive/MyDrive/kaggle/sketch/cat.csv  \n"
          ]
        }
      ]
    },
    {
      "cell_type": "code",
      "source": [
        "! kaggle competitions download quickdraw-doodle-recognition -f train_simplified/car.csv -p ./drive/MyDrive/kaggle\n",
        "! unzip ./drive/MyDrive/kaggle/car.csv.zip -d /content/drive/MyDrive/kaggle/sketch\n"
      ],
      "metadata": {
        "colab": {
          "base_uri": "https://localhost:8080/"
        },
        "id": "lOwEF4YdBZL4",
        "outputId": "bdb72e4d-ba07-4019-e4b1-c4cf86b3c0a4"
      },
      "execution_count": null,
      "outputs": [
        {
          "output_type": "stream",
          "name": "stdout",
          "text": [
            "Downloading car.csv.zip to ./drive/MyDrive/kaggle\n",
            " 89% 30.0M/33.7M [00:00<00:00, 136MB/s] \n",
            "100% 33.7M/33.7M [00:00<00:00, 128MB/s]\n",
            "Archive:  ./drive/MyDrive/kaggle/car.csv.zip\n",
            "  inflating: /content/drive/MyDrive/kaggle/sketch/car.csv  \n"
          ]
        }
      ]
    },
    {
      "cell_type": "code",
      "source": [
        "! tar -xf /content/drive/MyDrive/kaggle/imagenet/n01641577.tar -C /content/drive/MyDrive/kaggle/imagenet/frog"
      ],
      "metadata": {
        "id": "_4KEsBD4Btxe"
      },
      "execution_count": null,
      "outputs": []
    },
    {
      "cell_type": "code",
      "source": [
        "! mkdir /content/drive/MyDrive/kaggle/imagenet/frog"
      ],
      "metadata": {
        "id": "Wl_t-McpGZ7R"
      },
      "execution_count": null,
      "outputs": []
    },
    {
      "cell_type": "code",
      "source": [
        "! mkdir /content/drive/MyDrive/kaggle/imagenet/dog\n",
        "! tar -xf /content/drive/MyDrive/kaggle/imagenet/n02104029.tar -C /content/drive/MyDrive/kaggle/imagenet/dog\n"
      ],
      "metadata": {
        "id": "taecvEHLI-5D"
      },
      "execution_count": null,
      "outputs": []
    },
    {
      "cell_type": "code",
      "source": [
        "! mkdir /content/drive/MyDrive/kaggle/imagenet/cat\n",
        "! tar -xf /content/drive/MyDrive/kaggle/imagenet/n02123045.tar -C /content/drive/MyDrive/kaggle/imagenet/cat"
      ],
      "metadata": {
        "id": "fnP4nCrUH68w"
      },
      "execution_count": null,
      "outputs": []
    },
    {
      "cell_type": "code",
      "source": [
        "! rm -rf /content/drive/MyDrive/kaggle/imagenet/cat\n",
        "! rm -rf /content/drive/MyDrive/kaggle/imagenet/lion\n",
        "! rm -rf /content/drive/MyDrive/kaggle/imagenet/bear\n",
        "! rm -rf /content/drive/MyDrive/kaggle/imagenet/rabbit\n"
      ],
      "metadata": {
        "id": "S-x0O_aIKK7R"
      },
      "execution_count": null,
      "outputs": []
    },
    {
      "cell_type": "code",
      "source": [
        "! mkdir /content/drive/MyDrive/kaggle/imagenet/cat\n",
        "! tar -xf /content/drive/MyDrive/kaggle/imagenet/n02123045.tar -C /content/drive/MyDrive/kaggle/imagenet/cat\n",
        "\n",
        "! mkdir /content/drive/MyDrive/kaggle/imagenet/lion\n",
        "! tar -xf /content/drive/MyDrive/kaggle/imagenet/n02129165.tar -C /content/drive/MyDrive/kaggle/imagenet/lion\n",
        "\n",
        "! mkdir /content/drive/MyDrive/kaggle/imagenet/bear\n",
        "! tar -xf /content/drive/MyDrive/kaggle/imagenet/n02133161.tar -C /content/drive/MyDrive/kaggle/imagenet/bear\n",
        "\n",
        "! mkdir /content/drive/MyDrive/kaggle/imagenet/rabbit\n",
        "! tar -xf /content/drive/MyDrive/kaggle/imagenet/n02325366.tar -C /content/drive/MyDrive/kaggle/imagenet/rabbit\n",
        "\n",
        "\n",
        "! mkdir /content/drive/MyDrive/kaggle/imagenet/squirrel\n",
        "! tar -xf /content/drive/MyDrive/kaggle/imagenet/n02356798.tar -C /content/drive/MyDrive/kaggle/imagenet/squirrel\n",
        "\n",
        "\n",
        "! mkdir /content/drive/MyDrive/kaggle/imagenet/camel\n",
        "! tar -xf /content/drive/MyDrive/kaggle/imagenet/n02437312.tar -C /content/drive/MyDrive/kaggle/imagenet/camel\n",
        "\n",
        "\n",
        "! mkdir /content/drive/MyDrive/kaggle/imagenet/elephant\n",
        "! tar -xf /content/drive/MyDrive/kaggle/imagenet/n02504013.tar -C /content/drive/MyDrive/kaggle/imagenet/elephant\n",
        "\n",
        "\n",
        "! mkdir /content/drive/MyDrive/kaggle/imagenet/panda\n",
        "! tar -xf /content/drive/MyDrive/kaggle/imagenet/n02510455.tar -C /content/drive/MyDrive/kaggle/imagenet/panda"
      ],
      "metadata": {
        "id": "gAIi5aiIJiss"
      },
      "execution_count": null,
      "outputs": []
    },
    {
      "cell_type": "code",
      "source": [
        "! rm -rf /content/n01641577*"
      ],
      "metadata": {
        "id": "fA3bb6qMgRpU"
      },
      "execution_count": null,
      "outputs": []
    },
    {
      "cell_type": "code",
      "source": [
        "# do not run\n",
        "import torchvision.transforms as transforms\n",
        "import torchvision.datasets as datasets\n",
        "import os\n",
        "import torch\n",
        "\n",
        "def normalize_transform():\n",
        "    return transforms.Normalize(mean=[0.485, 0.456, 0.406],\n",
        "                                     std=[0.229, 0.224, 0.225])\n",
        "  \n",
        "def train_dataset(data_dir):\n",
        "    train_dir = os.path.join(data_dir, 'train')\n",
        "    \n",
        "    train_transforms = transforms.Compose([\n",
        "        transforms.RandomResizedCrop(224),\n",
        "        transforms.RandomHorizontalFlip(),\n",
        "        transforms.ToTensor(),\n",
        "        normalize_transform()\n",
        "    ])\n",
        "    \n",
        "    train_dataset = datasets.ImageFolder(\n",
        "        train_dir,\n",
        "        train_transforms\n",
        "    )\n",
        "    \n",
        "    return train_dataset\n",
        "  \n",
        "def val_dataset(data_dir):\n",
        "    val_dir = os.path.join(data_dir, 'val')\n",
        "    \n",
        "    val_transforms = transforms.Compose([\n",
        "        transforms.ToTensor(),\n",
        "        normalize_transform()\n",
        "    ])\n",
        "    \n",
        "    val_dataset = datasets.ImageFolder(\n",
        "        val_dir,\n",
        "        val_transforms\n",
        "    )\n",
        "    \n",
        "    return val_dataset\n",
        "  \n",
        "def data_loader(data_dir, batch_size=256, workers=2, pin_memory=True):\n",
        "    train_ds = train_dataset_imagenet(data_dir)\n",
        "    val_ds = val_dataset_imagenet(data_dir)\n",
        "    \n",
        "    train_loader = torch.utils.data.DataLoader(\n",
        "        train_ds,\n",
        "        batch_size=batch_size,\n",
        "        shuffle=True,\n",
        "        num_workers=workers,\n",
        "        pin_memory=pin_memory,\n",
        "        sampler=None\n",
        "    )\n",
        "    \n",
        "    val_loader = torch.utils.data.DataLoader(\n",
        "        val_ds,\n",
        "        batch_size=batch_size,\n",
        "        shuffle=False,\n",
        "        num_workers=workers,\n",
        "        pin_memory=pin_memory\n",
        "    )\n",
        "    \n",
        "    return train_loader, val_loader"
      ],
      "metadata": {
        "id": "bPEM9-tYKlGa"
      },
      "execution_count": null,
      "outputs": []
    },
    {
      "cell_type": "code",
      "source": [
        "import numpy as np\n",
        "import os\n",
        "import matplotlib.pyplot as plt\n",
        "\n",
        "# from torch_snippets import *\n",
        "import torch\n",
        "import torch.nn as nn\n",
        "import torch.nn.functional as F\n",
        "from torch.utils.data import Dataset, DataLoader, Sampler\n",
        "from torchvision import transforms\n",
        "import torch\n",
        "import random\n",
        "import os\n",
        "import torch\n",
        "import pandas as pd\n",
        "from skimage import io, transform\n",
        "import numpy as np\n",
        "import matplotlib.pyplot as plt\n",
        "from torch.utils.data import Dataset, DataLoader\n",
        "from torchvision import transforms, utils\n",
        "\n",
        "# Ignore warnings\n",
        "import warnings\n",
        "warnings.filterwarnings(\"ignore\")"
      ],
      "metadata": {
        "id": "2PVmYlpxja5B"
      },
      "execution_count": 2,
      "outputs": []
    },
    {
      "cell_type": "code",
      "source": [
        "from PIL import Image\n",
        "import os\n",
        "import numpy as np\n",
        "import warnings\n",
        "warnings.filterwarnings(\"ignore\")\n",
        "category = [\"bear\",\"camel\",\"cat\",\"dog\",\"elephant\",\"frog\",\"lion\",\"panda\",\"rabbit\",\"squirrel\"]\n",
        "\n",
        "path_ = \"/content/drive/MyDrive/kaggle/imagenet/\"\n",
        "total_dict = {}\n",
        "for c in category:\n",
        "  path_to_files = path_ + c\n",
        "  array_of_images = []\n",
        "  num = 500\n",
        "  for _, file in enumerate(os.listdir(path_to_files)):\n",
        "      \n",
        "      try:\n",
        "          single_im = Image.open(path_to_files+\"/\"+file)\n",
        "          single_array = np.array(single_im)\n",
        "          if single_array.shape[2] != 3:\n",
        "            continue\n",
        "          num -= 1\n",
        "          if num < 0:\n",
        "            break\n",
        "          array_of_images.append(single_array)\n",
        "          # print(single_array)\n",
        "      except:\n",
        "        continue\n",
        "  total_dict[c] = array_of_images\n",
        "\n",
        "\n",
        "print(len(total_dict))\n",
        "np.savez(\"/content/drive/MyDrive/kaggle/imagenet/all_images.npz\",bear = total_dict['bear'],camel = total_dict['camel'],\n",
        "         cat = total_dict['cat'],dog = total_dict['dog'],elephant = total_dict['elephant'],\n",
        "         frog = total_dict['frog'],lion = total_dict['lion'],panda = total_dict['panda'],\n",
        "         rabbit = total_dict['rabbit'],squirrel = total_dict['squirrel']\n",
        "         ) # save all in one file"
      ],
      "metadata": {
        "id": "bvf6yql7QEt6",
        "colab": {
          "base_uri": "https://localhost:8080/"
        },
        "outputId": "0488e545-bc90-4de5-ea2f-1d8da4f24233"
      },
      "execution_count": 4,
      "outputs": [
        {
          "output_type": "stream",
          "name": "stdout",
          "text": [
            "10\n"
          ]
        }
      ]
    },
    {
      "cell_type": "code",
      "source": [
        "from PIL import Image\n",
        "import os\n",
        "import numpy as np\n",
        "import warnings\n",
        "warnings.filterwarnings(\"ignore\")\n",
        "category = [\"bear\",\"camel\",\"cat\",\"dog\",\"elephant\",\"frog\",\"lion\",\"panda\",\"rabbit\",\"squirrel\"]\n",
        "\n",
        "path_ = \"/content/drive/MyDrive/kaggle/imagenet/\"\n",
        "total_dict = {}\n",
        "for c in category:\n",
        "  path_to_files = path_ + c\n",
        "  array_of_images = []\n",
        "  num = 1\n",
        "  for _, file in enumerate(os.listdir(path_to_files)):\n",
        "      \n",
        "      try:\n",
        "          single_im = Image.open(path_to_files+\"/\"+file)\n",
        "          single_array = np.array(single_im)\n",
        "          \n",
        "          if single_array.shape[2] != 3:\n",
        "            print(single_array.shape[2],\"###\")\n",
        "            continue\n",
        "          print(single_array.shape[2])\n",
        "          num -= 1\n",
        "          if num < 0:\n",
        "            break\n",
        "          array_of_images.append(single_array)\n",
        "          # print(single_array)\n",
        "      except:\n",
        "        continue\n",
        "  total_dict[c] = array_of_images\n",
        "\n",
        "\n",
        "np.savez(\"/content/drive/MyDrive/kaggle/imagenet/test_images.npz\",bear = total_dict['bear'],camel = total_dict['camel'],\n",
        "         cat = total_dict['cat'],dog = total_dict['dog'],elephant = total_dict['elephant'],\n",
        "         frog = total_dict['frog'],lion = total_dict['lion'],panda = total_dict['panda'],\n",
        "         rabbit = total_dict['rabbit'],squirrel = total_dict['squirrel']\n",
        "         ) # save all in one file"
      ],
      "metadata": {
        "colab": {
          "base_uri": "https://localhost:8080/"
        },
        "id": "TKFWqNWQpfbf",
        "outputId": "2780faea-2eee-4413-f481-f08fea69a602"
      },
      "execution_count": 2,
      "outputs": [
        {
          "output_type": "stream",
          "name": "stdout",
          "text": [
            "3\n",
            "3\n",
            "3\n",
            "3\n",
            "3\n",
            "3\n",
            "3\n",
            "3\n",
            "3\n",
            "3\n",
            "3\n",
            "3\n",
            "3\n",
            "3\n",
            "3\n",
            "3\n",
            "3\n",
            "3\n",
            "3\n",
            "3\n"
          ]
        }
      ]
    },
    {
      "cell_type": "code",
      "source": [
        "data_dict = dict(np.load('/content/drive/MyDrive/kaggle/imagenet/all_images.npz',allow_pickle=True))\n",
        "print(data_dict['cat'])\n",
        "# print(data_dict['camel'].size)\n",
        "# print(data_dict['bear'].size)\n",
        "# print(data_dict['dog'].size)\n",
        "# print(data_dict['elephant'].size)\n",
        "# print(data_dict['frog'].size)\n",
        "# print(data_dict['lion'].size)\n",
        "# print(data_dict['panda'].size)\n",
        "# print(data_dict['rabbit'].size)\n",
        "# print(data_dict['squirrel'].size)"
      ],
      "metadata": {
        "id": "ub29hhm3TyKM"
      },
      "execution_count": null,
      "outputs": []
    },
    {
      "cell_type": "code",
      "source": [
        "from PIL import Image\n",
        "import os\n",
        "import numpy as np\n",
        "import warnings\n",
        "warnings.filterwarnings(\"ignore\")\n",
        "category = [\"bear\",\"camel\",\"cat\",\"dog\",\"elephant\",\"frog\",\"lion\",\"panda\",\"rabbit\",\"squirrel\"]\n",
        "\n",
        "path_ = \"/content/drive/MyDrive/kaggle/imagenet/\"\n",
        "total_dict = {}\n",
        "for c in category:\n",
        "  path_to_files = path_ + c\n",
        "  array_of_images = []\n",
        "  index = 0\n",
        "  num = 100\n",
        "  for _, file in enumerate(os.listdir(path_to_files)):\n",
        "      if index < 600:\n",
        "            index += 1\n",
        "            continue\n",
        "      try:\n",
        "          single_im = Image.open(path_to_files+\"/\"+file)\n",
        "          single_array = np.array(single_im)\n",
        "          if single_array.shape[2] != 3:\n",
        "            continue\n",
        "          num -= 1\n",
        "          if num < 0:\n",
        "            break\n",
        "          array_of_images.append(single_array)\n",
        "      except:\n",
        "        continue\n",
        "  total_dict[c] = array_of_images\n",
        "\n",
        "\n",
        "# print(array_of_images)\n",
        "np.savez(\"/content/drive/MyDrive/kaggle/imagenet/test_images.npz\",bear = total_dict['bear'],camel = total_dict['camel'],\n",
        "         cat = total_dict['cat'],dog = total_dict['dog'],elephant = total_dict['elephant'],\n",
        "         frog = total_dict['frog'],lion = total_dict['lion'],panda = total_dict['panda'],\n",
        "         rabbit = total_dict['rabbit'],squirrel = total_dict['squirrel']\n",
        "         ) # save all in one file"
      ],
      "metadata": {
        "id": "IljUb894qjvI"
      },
      "execution_count": 3,
      "outputs": []
    },
    {
      "cell_type": "code",
      "source": [
        "import numpy as np\n",
        "import os\n",
        "import matplotlib.pyplot as plt\n",
        "\n",
        "import torch\n",
        "import torch.nn as nn\n",
        "import torch.nn.functional as F\n",
        "from torch.utils.data import Dataset, DataLoader, Sampler\n",
        "\n",
        "\n",
        "import random\n",
        "import pandas as pd\n",
        "\n",
        "from torchvision import transforms, utils\n",
        "\n",
        "class ImageDataset(Dataset):\n",
        "\n",
        "    def __init__(self, img_dir, animal_category, image_size = 255, class_size = 100,transform = False):\n",
        "        \"\"\"\n",
        "        Args:\n",
        "            sketch_dir (string): Directory to all the sketch images.\n",
        "            realworld_dir (string): Directory to all the real world images.\n",
        "            animal_category: list to fruit catogory\n",
        "            class_size: Num of images in each category\n",
        "            transform (callable, optional): Optional transform to be applied on a sample.\n",
        "        \"\"\"\n",
        "        self.img_dir = img_dir\n",
        "        self.transform = transform\n",
        "        self.animal_category = animal_category\n",
        "        self.class_size = class_size\n",
        "        self.data_dict = dict(np.load(img_dir,allow_pickle=True))\n",
        "        self.image_size = image_size\n",
        "       \n",
        "\n",
        "        \n",
        "        self.transform_img = transforms.Compose([transforms.ToPILImage(),\n",
        "                                                transforms.Resize((image_size,image_size)),\n",
        "                                                transforms.ToTensor(),])\n",
        "                                              # transforms.Normalize( mean=[0.485, 0.456, 0.406],std=[0.229, 0.224, 0.225] )\n",
        "        self.transform_label = transforms.Compose([transforms.ToTensor()])\n",
        "        \n",
        "    def __len__(self):\n",
        "        return self.class_size * len(self.animal_category)\n",
        "\n",
        "    def __getitem__(self, idx):\n",
        "        if torch.is_tensor(idx):\n",
        "            idx = idx.tolist()\n",
        "        \n",
        "        class_index = int(idx // self.class_size)\n",
        "        category =  self.animal_category[class_index]\n",
        "        category_idx = int(idx % self.class_size)\n",
        "        label = np.zeros((len(self.animal_category), 1))\n",
        "        label[class_index] = 1\n",
        "        \n",
        "#         label = class_index\n",
        "        image_ary =  self.data_dict[category][category_idx]\n",
        "        sample = {'image': image_ary, 'label': label}\n",
        "        if self.transform:\n",
        "            sample['image'] = self.transform_img(sample['image'])\n",
        "            sample['label'] = self.transform_label(sample['label'])\n",
        "        return sample\n",
        "        \n",
        "#@title \n",
        "class VGG16(nn.Module):\n",
        "    def __init__(self, num_classes=10):\n",
        "        super(VGG16, self).__init__()\n",
        "        self.layer1 = nn.Sequential(\n",
        "            nn.Conv2d(3, 64, kernel_size=3, stride=1, padding=1),\n",
        "            nn.BatchNorm2d(64),\n",
        "            nn.ReLU())\n",
        "        self.layer2 = nn.Sequential(\n",
        "            nn.Conv2d(64, 64, kernel_size=3, stride=1, padding=1),\n",
        "            nn.BatchNorm2d(64),\n",
        "            nn.ReLU(), \n",
        "            nn.MaxPool2d(kernel_size = 2, stride = 2))\n",
        "        self.layer3 = nn.Sequential(\n",
        "            nn.Conv2d(64, 128, kernel_size=3, stride=1, padding=1),\n",
        "            nn.BatchNorm2d(128),\n",
        "            nn.ReLU())\n",
        "        self.layer4 = nn.Sequential(\n",
        "            nn.Conv2d(128, 128, kernel_size=3, stride=1, padding=1),\n",
        "            nn.BatchNorm2d(128),\n",
        "            nn.ReLU(),\n",
        "            nn.MaxPool2d(kernel_size = 2, stride = 2))\n",
        "        self.layer5 = nn.Sequential(\n",
        "            nn.Conv2d(128, 256, kernel_size=3, stride=1, padding=1),\n",
        "            nn.BatchNorm2d(256),\n",
        "            nn.ReLU())\n",
        "        self.layer6 = nn.Sequential(\n",
        "            nn.Conv2d(256, 256, kernel_size=3, stride=1, padding=1),\n",
        "            nn.BatchNorm2d(256),\n",
        "            nn.ReLU())\n",
        "        self.layer7 = nn.Sequential(\n",
        "            nn.Conv2d(256, 256, kernel_size=3, stride=1, padding=1),\n",
        "            nn.BatchNorm2d(256),\n",
        "            nn.ReLU(),\n",
        "            nn.MaxPool2d(kernel_size = 2, stride = 2))\n",
        "        self.layer8 = nn.Sequential(\n",
        "            nn.Conv2d(256, 512, kernel_size=3, stride=1, padding=1),\n",
        "            nn.BatchNorm2d(512),\n",
        "            nn.ReLU())\n",
        "        self.layer9 = nn.Sequential(\n",
        "            nn.Conv2d(512, 512, kernel_size=3, stride=1, padding=1),\n",
        "            nn.BatchNorm2d(512),\n",
        "            nn.ReLU())\n",
        "        self.layer10 = nn.Sequential(\n",
        "            nn.Conv2d(512, 512, kernel_size=3, stride=1, padding=1),\n",
        "            nn.BatchNorm2d(512),\n",
        "            nn.ReLU(),\n",
        "            nn.MaxPool2d(kernel_size = 2, stride = 2))\n",
        "        self.layer11 = nn.Sequential(\n",
        "            nn.Conv2d(512, 512, kernel_size=3, stride=1, padding=1),\n",
        "            nn.BatchNorm2d(512),\n",
        "            nn.ReLU())\n",
        "        self.layer12 = nn.Sequential(\n",
        "            nn.Conv2d(512, 512, kernel_size=3, stride=1, padding=1),\n",
        "            nn.BatchNorm2d(512),\n",
        "            nn.ReLU())\n",
        "        self.layer13 = nn.Sequential(\n",
        "            nn.Conv2d(512, 512, kernel_size=3, stride=1, padding=1),\n",
        "            nn.BatchNorm2d(512),\n",
        "            nn.ReLU(),\n",
        "            nn.MaxPool2d(kernel_size = 2, stride = 2))\n",
        "        self.fc = nn.Sequential(\n",
        "            nn.Dropout(0.5),\n",
        "            nn.Linear(2*2*512, 4096),\n",
        "            nn.ReLU())\n",
        "        self.fc1 = nn.Sequential(\n",
        "            nn.Dropout(0.5),\n",
        "            nn.Linear(4096, 4096),\n",
        "            nn.ReLU())\n",
        "        self.fc2= nn.Sequential(\n",
        "            nn.Linear(4096, num_classes))\n",
        "        \n",
        "    def forward(self, x):\n",
        "        out = self.layer1(x)\n",
        "        out = self.layer2(out)\n",
        "        out = self.layer3(out)\n",
        "        out = self.layer4(out)\n",
        "        out = self.layer5(out)\n",
        "        out = self.layer6(out)\n",
        "        out = self.layer7(out)\n",
        "        out = self.layer8(out)\n",
        "        out = self.layer9(out)\n",
        "        out = self.layer10(out)\n",
        "        out = self.layer11(out)\n",
        "        out = self.layer12(out)\n",
        "        out = self.layer13(out)\n",
        "      \n",
        "        out = out.reshape(out.shape[0], -1)\n",
        "        out = self.fc(out)\n",
        "\n",
        "        out = self.fc1(out)\n",
        "        out = self.fc2(out)\n",
        "        return out\n",
        "        if self.transform:\n",
        "            sample['image'] = self.transform_img(sample['image'])\n",
        "            sample['label'] = self.transform_label(sample['label'])\n",
        "        return sample\n",
        "  "
      ],
      "metadata": {
        "id": "SPYxT9avjdvM"
      },
      "execution_count": 12,
      "outputs": []
    },
    {
      "cell_type": "code",
      "source": [
        "num_classes = 10\n",
        "num_epochs = 10\n",
        "batch_size = 64\n",
        "learning_rate = 0.01 #0.03\n",
        "\n",
        "device = torch.device(\"cuda\" if torch.cuda.is_available() else \"cpu\")\n",
        "model = VGG16(num_classes).to(device)\n",
        "\n",
        "# Loss and optimizer\n",
        "criterion = nn.CrossEntropyLoss()\n",
        "optimizer = torch.optim.SGD(model.parameters(), lr=learning_rate, weight_decay = 0.007, momentum = 0.9)  \n",
        "RESUME =False"
      ],
      "metadata": {
        "id": "kB800o6CuBjT"
      },
      "execution_count": 6,
      "outputs": []
    },
    {
      "cell_type": "code",
      "source": [],
      "metadata": {
        "id": "5D_GmfR8nEGd"
      },
      "execution_count": null,
      "outputs": []
    },
    {
      "cell_type": "code",
      "source": [
        "\n",
        "QURIES = [\"bear\",\"camel\",\"cat\",\"dog\",\"elephant\",\"frog\",\"lion\",\"panda\",\"rabbit\",\"squirrel\"]  \n",
        "\n",
        "train_realworld_dir = \"/content/drive/MyDrive/kaggle/imagenet/all_images.npz\"\n",
        "train_realworld = ImageDataset(train_realworld_dir, QURIES, image_size = 64, class_size = 500,transform = True)\n",
        "train_loader = DataLoader(train_realworld, batch_size=128, shuffle=True, pin_memory=True)\n",
        "\n",
        "test_realworld_dir = \"/content/drive/MyDrive/kaggle/imagenet/test_images.npz\"\n",
        "test_realworld = ImageDataset(test_realworld_dir, QURIES, image_size = 64, class_size = 10,transform = True)\n",
        "test_loader_realworld = DataLoader(test_realworld, batch_size=128, shuffle=True, pin_memory=True)"
      ],
      "metadata": {
        "id": "AT1016lTNrp8"
      },
      "execution_count": 7,
      "outputs": []
    },
    {
      "cell_type": "code",
      "source": [
        "if RESUME:\n",
        "  checkpoint = torch.load(sys.path[0]+'/best_vgg16_model_realworld_10epoch_with_loss_lr_001.pth')\n",
        "  model.load_state_dict(checkpoint['model_state_dict'])\n",
        "  optimizer.load_state_dict(checkpoint['optimizer_state_dict'])\n",
        "  start_epoch = checkpoint['epoch']\n",
        "  train_realworld_acc = checkpoint['train_realworld_acc']\n",
        "  train_realworld_loss = checkpoint[\"train_realworld_loss\"]\n",
        "  val_realworld_acc = checkpoint[\"val_realworld_acc\"]\n",
        "  val_realworld_loss= checkpoint[\"val_realworld_loss\"]\n",
        "  \n",
        "else:\n",
        "  start_epoch =0\n",
        "  train_realworld_acc = []\n",
        "  train_realworld_loss = []\n",
        "  val_realworld_acc = []\n",
        "  val_realworld_loss = []"
      ],
      "metadata": {
        "id": "DsrfyCDkuO-V"
      },
      "execution_count": 8,
      "outputs": []
    },
    {
      "cell_type": "code",
      "source": [
        "import gc\n",
        "total_step = len(train_loader)\n",
        "\n",
        "for epoch in range(start_epoch,start_epoch+num_epochs):\n",
        "    for data in train_loader:  \n",
        "        # Move tensors to the configured device\n",
        "        images = data['image'].to(device)\n",
        "        labels = data['label'].to(device)\n",
        "        correct_t = 0\n",
        "        total_t = 0\n",
        "        # Forward pass\n",
        "        model.train()\n",
        "        outputs = model(images)\n",
        "        loss = criterion(outputs, torch.argmax(labels.squeeze(),dim = 1))\n",
        "        _, predicted = outputs.squeeze().topk(1, dim=1, largest=True, sorted=True)\n",
        "        \n",
        "        total_t += labels.size(0)\n",
        "        correct_t +=  (predicted.squeeze() == torch.argmax(labels.squeeze(),dim = 1)).sum().item()\n",
        "        \n",
        "        # Backward and optimize\n",
        "        optimizer.zero_grad()\n",
        "        loss.backward()\n",
        "        optimizer.step()\n",
        "        del images, labels, outputs\n",
        "        torch.cuda.empty_cache()\n",
        "        gc.collect()\n",
        "    \n",
        "    \n",
        "    train_realworld_loss.append(loss.item())\n",
        "    train_realworld_acc.append(correct_t/total_t)\n",
        "    print ('Epoch [{}/{}], Training Loss: {:.4f}' \n",
        "                   .format(epoch+1,start_epoch+num_epochs, loss.item()))\n",
        "            \n",
        "    # Validation\n",
        "    \n",
        "    with torch.no_grad():\n",
        "        model.eval()\n",
        "        correct_v = 0\n",
        "        total_v = 0\n",
        "        for data in test_loader_realworld:\n",
        "            images = data['image'].to(device)\n",
        "            labels = data['label'].to(device)\n",
        "        \n",
        "\n",
        "            outputs = model(images)\n",
        "            loss_v = criterion(outputs, torch.argmax(labels.squeeze(),dim = 1))\n",
        "   \n",
        "            _, predicted = outputs.squeeze().topk(1, dim=1, largest=True, sorted=True)\n",
        "        \n",
        "            total_v += labels.size(0)\n",
        "            correct_v +=  (predicted.squeeze() == torch.argmax(labels.squeeze(),dim = 1)).sum().item()\n",
        "            \n",
        "            del images, labels, outputs\n",
        "        val_realworld_loss.append(loss_v.item())\n",
        "        val_realworld_acc.append(correct_v/total_v)\n",
        "        print(f\"Validation accuracy: {(correct_v/total_v):.3f}\")\n",
        "       \n",
        "print(f\"train_acc:{(np.mean([v for v in train_realworld_acc])):.3f},val_acc:{(np.mean([v for v in val_realworld_acc])):.3f}\")"
      ],
      "metadata": {
        "colab": {
          "base_uri": "https://localhost:8080/"
        },
        "id": "ebW7a7wDuSZg",
        "outputId": "2bce2bd7-a64e-48ca-fc47-2c7e24cf6122"
      },
      "execution_count": 9,
      "outputs": [
        {
          "output_type": "stream",
          "name": "stdout",
          "text": [
            "Epoch [1/50], Training Loss: 1.5182\n",
            "Validation accuracy: 0.260\n",
            "Epoch [2/50], Training Loss: 1.0816\n",
            "Validation accuracy: 0.390\n",
            "Epoch [3/50], Training Loss: 1.7741\n",
            "Validation accuracy: 0.360\n",
            "Epoch [4/50], Training Loss: 1.3955\n",
            "Validation accuracy: 0.260\n",
            "Epoch [5/50], Training Loss: 1.4643\n",
            "Validation accuracy: 0.300\n",
            "Epoch [6/50], Training Loss: 2.5297\n",
            "Validation accuracy: 0.230\n",
            "Epoch [7/50], Training Loss: 1.8655\n",
            "Validation accuracy: 0.350\n",
            "Epoch [8/50], Training Loss: 2.1600\n",
            "Validation accuracy: 0.300\n",
            "Epoch [9/50], Training Loss: 0.6325\n",
            "Validation accuracy: 0.280\n",
            "Epoch [10/50], Training Loss: 1.2756\n",
            "Validation accuracy: 0.410\n",
            "Epoch [11/50], Training Loss: 0.9095\n",
            "Validation accuracy: 0.500\n",
            "Epoch [12/50], Training Loss: 0.9296\n",
            "Validation accuracy: 0.500\n",
            "Epoch [13/50], Training Loss: 0.5951\n",
            "Validation accuracy: 0.410\n",
            "Epoch [14/50], Training Loss: 2.7031\n",
            "Validation accuracy: 0.320\n",
            "Epoch [15/50], Training Loss: 0.8208\n",
            "Validation accuracy: 0.550\n",
            "Epoch [16/50], Training Loss: 1.1839\n",
            "Validation accuracy: 0.580\n",
            "Epoch [17/50], Training Loss: 1.7818\n",
            "Validation accuracy: 0.370\n",
            "Epoch [18/50], Training Loss: 0.8155\n",
            "Validation accuracy: 0.510\n",
            "Epoch [19/50], Training Loss: 0.5581\n",
            "Validation accuracy: 0.540\n",
            "Epoch [20/50], Training Loss: 0.3019\n",
            "Validation accuracy: 0.620\n",
            "Epoch [21/50], Training Loss: 0.1628\n",
            "Validation accuracy: 0.510\n",
            "Epoch [22/50], Training Loss: 1.9347\n",
            "Validation accuracy: 0.250\n",
            "Epoch [23/50], Training Loss: 1.0399\n",
            "Validation accuracy: 0.470\n",
            "Epoch [24/50], Training Loss: 1.1475\n",
            "Validation accuracy: 0.440\n",
            "Epoch [25/50], Training Loss: 0.4636\n",
            "Validation accuracy: 0.520\n",
            "Epoch [26/50], Training Loss: 0.1745\n",
            "Validation accuracy: 0.570\n",
            "Epoch [27/50], Training Loss: 0.3888\n",
            "Validation accuracy: 0.500\n",
            "Epoch [28/50], Training Loss: 1.3069\n",
            "Validation accuracy: 0.480\n",
            "Epoch [29/50], Training Loss: 0.2587\n",
            "Validation accuracy: 0.550\n",
            "Epoch [30/50], Training Loss: 0.6129\n",
            "Validation accuracy: 0.540\n",
            "Epoch [31/50], Training Loss: 0.4356\n",
            "Validation accuracy: 0.480\n",
            "Epoch [32/50], Training Loss: 0.4602\n",
            "Validation accuracy: 0.660\n",
            "Epoch [33/50], Training Loss: 0.5463\n",
            "Validation accuracy: 0.510\n",
            "Epoch [34/50], Training Loss: 0.5084\n",
            "Validation accuracy: 0.520\n",
            "Epoch [35/50], Training Loss: 0.5289\n",
            "Validation accuracy: 0.490\n",
            "Epoch [36/50], Training Loss: 0.5761\n",
            "Validation accuracy: 0.630\n",
            "Epoch [37/50], Training Loss: 0.3356\n",
            "Validation accuracy: 0.540\n",
            "Epoch [38/50], Training Loss: 0.1932\n",
            "Validation accuracy: 0.500\n",
            "Epoch [39/50], Training Loss: 0.3465\n",
            "Validation accuracy: 0.550\n",
            "Epoch [40/50], Training Loss: 0.4088\n",
            "Validation accuracy: 0.550\n",
            "Epoch [41/50], Training Loss: 0.0980\n",
            "Validation accuracy: 0.530\n",
            "Epoch [42/50], Training Loss: 0.0311\n",
            "Validation accuracy: 0.550\n",
            "Epoch [43/50], Training Loss: 0.1051\n",
            "Validation accuracy: 0.640\n",
            "Epoch [44/50], Training Loss: 0.1199\n",
            "Validation accuracy: 0.620\n",
            "Epoch [45/50], Training Loss: 0.4203\n",
            "Validation accuracy: 0.570\n",
            "Epoch [46/50], Training Loss: 0.9967\n",
            "Validation accuracy: 0.570\n",
            "Epoch [47/50], Training Loss: 2.3062\n",
            "Validation accuracy: 0.460\n",
            "Epoch [48/50], Training Loss: 0.9393\n",
            "Validation accuracy: 0.580\n",
            "Epoch [49/50], Training Loss: 0.3910\n",
            "Validation accuracy: 0.600\n",
            "Epoch [50/50], Training Loss: 0.4302\n",
            "Validation accuracy: 0.580\n",
            "train_acc:0.708,val_acc:0.480\n"
          ]
        }
      ]
    },
    {
      "cell_type": "code",
      "source": [
        "test_realworld_dir = \"/content/drive/MyDrive/kaggle/imagenet/test_images.npz\"\n",
        "test_realworld = ImageDataset(test_realworld_dir, QURIES, image_size = 64, class_size = 100,transform = True)\n",
        "test_loader_realworld = DataLoader(test_realworld, batch_size=128, shuffle=True, pin_memory=True)"
      ],
      "metadata": {
        "id": "4JJPHOtjuVEV"
      },
      "execution_count": 10,
      "outputs": []
    },
    {
      "cell_type": "code",
      "source": [
        "torch.save({\n",
        "            'epoch': 50,\n",
        "            'model_state_dict': model.state_dict(),\n",
        "            'optimizer_state_dict': optimizer.state_dict(),\n",
        "            'train_realworld_acc': train_realworld_acc,\n",
        "            'train_realworld_loss': train_realworld_loss,\n",
        "            'val_realworld_acc': val_realworld_acc,\n",
        "            'val_realworld_loss': val_realworld_loss,\n",
        "      \n",
        "          \n",
        "            }, \"/content/drive/MyDrive/kaggle/imagenet\"+'/best_vgg16_model_realworld_50epoch_with_loss_lr_001.pth')"
      ],
      "metadata": {
        "id": "k-t8JlX7zPwR"
      },
      "execution_count": 11,
      "outputs": []
    },
    {
      "cell_type": "code",
      "source": [
        "num_classes = 10\n",
        "num_epochs = 10\n",
        "batch_size = 128\n",
        "learning_rate = 0.03 #0.03\n",
        "\n",
        "device = torch.device(\"cuda\" if torch.cuda.is_available() else \"cpu\")\n",
        "model = VGG16(num_classes).to(device)\n",
        "\n",
        "# Loss and optimizer\n",
        "criterion = nn.CrossEntropyLoss()\n",
        "optimizer = torch.optim.SGD(model.parameters(), lr=learning_rate, weight_decay = 0.007, momentum = 0.9)  \n",
        "RESUME =False"
      ],
      "metadata": {
        "id": "qowo0Itu0yTc"
      },
      "execution_count": 17,
      "outputs": []
    },
    {
      "cell_type": "code",
      "source": [
        "import gc\n",
        "total_step = len(train_loader)\n",
        "\n",
        "for epoch in range(start_epoch,start_epoch+num_epochs):\n",
        "    for data in train_loader:  \n",
        "        # Move tensors to the configured device\n",
        "        images = data['image'].to(device)\n",
        "        labels = data['label'].to(device)\n",
        "        correct_t = 0\n",
        "        total_t = 0\n",
        "        # Forward pass\n",
        "        model.train()\n",
        "        outputs = model(images)\n",
        "        loss = criterion(outputs, torch.argmax(labels.squeeze(),dim = 1))\n",
        "        _, predicted = outputs.squeeze().topk(1, dim=1, largest=True, sorted=True)\n",
        "        \n",
        "        total_t += labels.size(0)\n",
        "        correct_t +=  (predicted.squeeze() == torch.argmax(labels.squeeze(),dim = 1)).sum().item()\n",
        "        \n",
        "        # Backward and optimize\n",
        "        optimizer.zero_grad()\n",
        "        loss.backward()\n",
        "        optimizer.step()\n",
        "        del images, labels, outputs\n",
        "        torch.cuda.empty_cache()\n",
        "        gc.collect()\n",
        "    \n",
        "    \n",
        "    train_realworld_loss.append(loss.item())\n",
        "    train_realworld_acc.append(correct_t/total_t)\n",
        "    print ('Epoch [{}/{}], Training Loss: {:.4f}' \n",
        "                   .format(epoch+1,start_epoch+num_epochs, loss.item()))\n",
        "            \n",
        "    # Validation\n",
        "    \n",
        "    with torch.no_grad():\n",
        "        model.eval()\n",
        "        correct_v = 0\n",
        "        total_v = 0\n",
        "        for data in test_loader_realworld:\n",
        "            images = data['image'].to(device)\n",
        "            labels = data['label'].to(device)\n",
        "        \n",
        "\n",
        "            outputs = model(images)\n",
        "            loss_v = criterion(outputs, torch.argmax(labels.squeeze(),dim = 1))\n",
        "   \n",
        "            _, predicted = outputs.squeeze().topk(1, dim=1, largest=True, sorted=True)\n",
        "        \n",
        "            total_v += labels.size(0)\n",
        "            correct_v +=  (predicted.squeeze() == torch.argmax(labels.squeeze(),dim = 1)).sum().item()\n",
        "            \n",
        "            del images, labels, outputs\n",
        "        val_realworld_loss.append(loss_v.item())\n",
        "        val_realworld_acc.append(correct_v/total_v)\n",
        "        print(f\"Validation accuracy: {(correct_v/total_v):.3f}\")\n",
        "       \n",
        "print(f\"train_acc:{(np.mean([v for v in train_realworld_acc])):.3f},val_acc:{(np.mean([v for v in val_realworld_acc])):.3f}\")"
      ],
      "metadata": {
        "colab": {
          "base_uri": "https://localhost:8080/"
        },
        "id": "BiccSt8uzcpy",
        "outputId": "2751b73b-aa72-44cb-9615-a5190228f0ec"
      },
      "execution_count": 18,
      "outputs": [
        {
          "output_type": "stream",
          "name": "stdout",
          "text": [
            "Epoch [1/10], Training Loss: 1.7305\n",
            "Validation accuracy: 0.175\n",
            "Epoch [2/10], Training Loss: 2.6608\n",
            "Validation accuracy: 0.220\n",
            "Epoch [3/10], Training Loss: 1.4086\n",
            "Validation accuracy: 0.221\n",
            "Epoch [4/10], Training Loss: 1.4019\n",
            "Validation accuracy: 0.213\n",
            "Epoch [5/10], Training Loss: 1.7550\n",
            "Validation accuracy: 0.264\n",
            "Epoch [6/10], Training Loss: 1.8585\n",
            "Validation accuracy: 0.234\n",
            "Epoch [7/10], Training Loss: 1.8808\n",
            "Validation accuracy: 0.214\n",
            "Epoch [8/10], Training Loss: 1.2380\n",
            "Validation accuracy: 0.223\n",
            "Epoch [9/10], Training Loss: 1.6165\n",
            "Validation accuracy: 0.302\n",
            "Epoch [10/10], Training Loss: 2.5204\n",
            "Validation accuracy: 0.273\n",
            "train_acc:0.602,val_acc:0.417\n"
          ]
        }
      ]
    },
    {
      "cell_type": "code",
      "source": [
        "num_classes = 10\n",
        "num_epochs = 10\n",
        "batch_size = 128\n",
        "learning_rate = 0.01 #0.03\n",
        "\n",
        "device = torch.device(\"cuda\" if torch.cuda.is_available() else \"cpu\")\n",
        "model = VGG16(num_classes).to(device)\n",
        "\n",
        "# Loss and optimizer\n",
        "criterion = nn.CrossEntropyLoss()\n",
        "optimizer = torch.optim.SGD(model.parameters(), lr=learning_rate, weight_decay = 0.007, momentum = 0.9)  \n",
        "RESUME =False\n",
        "import gc\n",
        "total_step = len(train_loader)\n",
        "\n",
        "for epoch in range(start_epoch,start_epoch+num_epochs):\n",
        "    for data in train_loader:  \n",
        "        # Move tensors to the configured device\n",
        "        images = data['image'].to(device)\n",
        "        labels = data['label'].to(device)\n",
        "        correct_t = 0\n",
        "        total_t = 0\n",
        "        # Forward pass\n",
        "        model.train()\n",
        "        outputs = model(images)\n",
        "        loss = criterion(outputs, torch.argmax(labels.squeeze(),dim = 1))\n",
        "        _, predicted = outputs.squeeze().topk(1, dim=1, largest=True, sorted=True)\n",
        "        \n",
        "        total_t += labels.size(0)\n",
        "        correct_t +=  (predicted.squeeze() == torch.argmax(labels.squeeze(),dim = 1)).sum().item()\n",
        "        \n",
        "        # Backward and optimize\n",
        "        optimizer.zero_grad()\n",
        "        loss.backward()\n",
        "        optimizer.step()\n",
        "        del images, labels, outputs\n",
        "        torch.cuda.empty_cache()\n",
        "        gc.collect()\n",
        "    \n",
        "    \n",
        "    train_realworld_loss.append(loss.item())\n",
        "    train_realworld_acc.append(correct_t/total_t)\n",
        "    print ('Epoch [{}/{}], Training Loss: {:.4f}' \n",
        "                   .format(epoch+1,start_epoch+num_epochs, loss.item()))\n",
        "            \n",
        "    # Validation\n",
        "    \n",
        "    with torch.no_grad():\n",
        "        model.eval()\n",
        "        correct_v = 0\n",
        "        total_v = 0\n",
        "        for data in test_loader_realworld:\n",
        "            images = data['image'].to(device)\n",
        "            labels = data['label'].to(device)\n",
        "        \n",
        "\n",
        "            outputs = model(images)\n",
        "            loss_v = criterion(outputs, torch.argmax(labels.squeeze(),dim = 1))\n",
        "   \n",
        "            _, predicted = outputs.squeeze().topk(1, dim=1, largest=True, sorted=True)\n",
        "        \n",
        "            total_v += labels.size(0)\n",
        "            correct_v +=  (predicted.squeeze() == torch.argmax(labels.squeeze(),dim = 1)).sum().item()\n",
        "            \n",
        "            del images, labels, outputs\n",
        "        val_realworld_loss.append(loss_v.item())\n",
        "        val_realworld_acc.append(correct_v/total_v)\n",
        "        print(f\"Validation accuracy: {(correct_v/total_v):.3f}\")\n",
        "       \n",
        "print(f\"train_acc:{(np.mean([v for v in train_realworld_acc])):.3f},val_acc:{(np.mean([v for v in val_realworld_acc])):.3f}\")"
      ],
      "metadata": {
        "colab": {
          "base_uri": "https://localhost:8080/"
        },
        "id": "sZ5A5EGR3Z1-",
        "outputId": "7bbf2a53-2b51-4609-e8d4-1f3a6cf0c256"
      },
      "execution_count": 23,
      "outputs": [
        {
          "output_type": "stream",
          "name": "stdout",
          "text": [
            "Epoch [1/10], Training Loss: 1.6123\n",
            "Validation accuracy: 0.147\n",
            "Epoch [2/10], Training Loss: 1.5216\n",
            "Validation accuracy: 0.364\n",
            "Epoch [3/10], Training Loss: 1.8933\n",
            "Validation accuracy: 0.290\n",
            "Epoch [4/10], Training Loss: 1.3856\n",
            "Validation accuracy: 0.318\n",
            "Epoch [5/10], Training Loss: 1.7240\n",
            "Validation accuracy: 0.367\n",
            "Epoch [6/10], Training Loss: 1.8514\n",
            "Validation accuracy: 0.412\n",
            "Epoch [7/10], Training Loss: 1.7580\n",
            "Validation accuracy: 0.377\n",
            "Epoch [8/10], Training Loss: 1.1644\n",
            "Validation accuracy: 0.435\n",
            "Epoch [9/10], Training Loss: 1.1713\n",
            "Validation accuracy: 0.416\n",
            "Epoch [10/10], Training Loss: 1.9587\n",
            "Validation accuracy: 0.392\n",
            "train_acc:0.535,val_acc:0.380\n"
          ]
        }
      ]
    },
    {
      "cell_type": "code",
      "source": [],
      "metadata": {
        "id": "pvH1gkXs_r3G"
      },
      "execution_count": null,
      "outputs": []
    }
  ]
}